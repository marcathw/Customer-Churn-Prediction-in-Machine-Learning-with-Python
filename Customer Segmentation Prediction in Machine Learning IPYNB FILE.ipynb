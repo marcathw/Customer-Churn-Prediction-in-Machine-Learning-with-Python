{
 "cells": [
  {
   "cell_type": "markdown",
   "metadata": {
    "id": "adxm34Jwjhxa"
   },
   "source": [
    "### **Data Exploration and Preprocessing**"
   ]
  },
  {
   "cell_type": "markdown",
   "metadata": {
    "id": "xMymBmi1uZfo"
   },
   "source": [
    "#### **Data Description**"
   ]
  },
  {
   "cell_type": "markdown",
   "metadata": {
    "id": "HJU-24SDubVm"
   },
   "source": [
    "'Customer Segmentation Data' Dataset provides information about 10695 automobile customers with their details.\n",
    "- ***ID***, a unique identifier for each customer.\n",
    "- ***Gender***, represents the gender of the customer.\n",
    "- ***Ever_Married***, refers to the marital status of the customer.\n",
    "- ***Age***, the age of the customers, ranging from 18 to 89.\n",
    "- ***Graduated***, refers to the graduate status of the customer.\n",
    "- ***Profession***, refers to the profession of the customer.\n",
    "- ***Work_Experience***, shows the number of years of customer's work experience.\n",
    "- ***Spending_Score***, spending score of the customer.\n",
    "- ***Family_Size***, shows the number of family members for the customer.\n",
    "- ***Var_1***, refers to an anonymised category for the customer.\n",
    "- ***Segmentation***, classification of customer segments."
   ]
  },
  {
   "cell_type": "markdown",
   "metadata": {
    "id": "5DoygpUZg4nj",
    "jp-MarkdownHeadingCollapsed": true
   },
   "source": [
    "#### **Import Libraries**"
   ]
  },
  {
   "cell_type": "markdown",
   "metadata": {
    "id": "WXQpdRfwg4Az"
   },
   "source": [
    "- ***pandas*** is used for data manipulation and analysis.  \n",
    "- ***seaborn*** is used for data visualization built on top of matplotlib.  \n",
    "- ***pyplot*** from ***matplotlib*** is used to create static, interactive, and animated visualizations.  \n",
    "- ***train_test_split*** from ***sklearn.model_selection*** is used to split the data into train and test sets.  \n",
    "- ***GridSearchCV*** from ***sklearn.model_selection*** is used to perform Grid Search Cross Validation as Hyperparameter Fine Tuning.  \n",
    "- ***classification_report*** from ***sklearn.metrics*** is used to return the classification report from the model.  \n",
    "- ***confusion_matrix*** and ***ConfusionMatrixDisplay*** from ***sklearn.metrics*** is used to generate confusion matrix and its plot from the model.  \n",
    "- ***LabelEncoder*** and ***OneHotEncoder*** from ***sklearn.preprocessing*** are used to encode the categorical variables in the data.  \n",
    "- ***RobustScaler*** from ***sklearn.preprocessing*** is used to scale the numerical variables in the data.  \n",
    "- ***RandomForestClassifier*** from ***sklearn.ensemble*** is used to call the Random Forest Classifier model.  \n",
    "- ***XGBClassifier*** from ***xgboost*** is used to call the XGBoost Classifier model."
   ]
  },
  {
   "cell_type": "code",
   "execution_count": 29,
   "metadata": {
    "id": "fEcJleNjhPhe"
   },
   "outputs": [],
   "source": [
    "import pandas as pd\n",
    "import seaborn as sns\n",
    "from matplotlib import pyplot as plt\n",
    "from sklearn.model_selection import train_test_split, GridSearchCV\n",
    "from sklearn.metrics import classification_report, confusion_matrix, ConfusionMatrixDisplay\n",
    "from sklearn.preprocessing import LabelEncoder, OneHotEncoder, RobustScaler\n",
    "from sklearn.ensemble import RandomForestClassifier\n",
    "from xgboost import XGBClassifier"
   ]
  },
  {
   "cell_type": "markdown",
   "metadata": {
    "id": "GJK3WGejjpyM",
    "jp-MarkdownHeadingCollapsed": true
   },
   "source": [
    "#### **Read Dataset**  "
   ]
  },
  {
   "cell_type": "markdown",
   "metadata": {
    "id": "_dJX5q1VjqUG"
   },
   "source": [
    "- ***pd.read_csv()*** is used to convert a csv file into a dataframe."
   ]
  },
  {
   "cell_type": "code",
   "execution_count": 30,
   "metadata": {
    "id": "SL6njDXpjtWA"
   },
   "outputs": [],
   "source": [
    "data = pd.read_csv(\"customer_segmentation.csv\")"
   ]
  },
  {
   "cell_type": "markdown",
   "metadata": {
    "id": "r9_KwWOJj43y",
    "jp-MarkdownHeadingCollapsed": true
   },
   "source": [
    "#### **Explore Dataset**  "
   ]
  },
  {
   "cell_type": "markdown",
   "metadata": {
    "id": "056gEqU8j96-"
   },
   "source": [
    "- ***data.head()*** displays the first 5 rows of a dataframe.  \n",
    "- ***data.info()*** provides informations about the dataframe, including the structures and the column details.  \n",
    "- ***data.describe()*** generates descriptive statistics for the numerical columns in the dataframe."
   ]
  },
  {
   "cell_type": "code",
   "execution_count": 31,
   "metadata": {
    "colab": {
     "base_uri": "https://localhost:8080/",
     "height": 206
    },
    "id": "V0SXl7UjkBoE",
    "outputId": "a7044244-03c6-43b9-9ac3-e1d1c9e44af2"
   },
   "outputs": [
    {
     "data": {
      "application/vnd.google.colaboratory.intrinsic+json": {
       "summary": "{\n  \"name\": \"data\",\n  \"rows\": 10695,\n  \"fields\": [\n    {\n      \"column\": \"ID\",\n      \"properties\": {\n        \"dtype\": \"number\",\n        \"std\": 2600,\n        \"min\": 458982,\n        \"max\": 467974,\n        \"num_unique_values\": 8363,\n        \"samples\": [\n          459884,\n          463849,\n          461481\n        ],\n        \"semantic_type\": \"\",\n        \"description\": \"\"\n      }\n    },\n    {\n      \"column\": \"Gender\",\n      \"properties\": {\n        \"dtype\": \"category\",\n        \"num_unique_values\": 2,\n        \"samples\": [\n          \"Male\",\n          \"Female\"\n        ],\n        \"semantic_type\": \"\",\n        \"description\": \"\"\n      }\n    },\n    {\n      \"column\": \"Ever_Married\",\n      \"properties\": {\n        \"dtype\": \"category\",\n        \"num_unique_values\": 2,\n        \"samples\": [\n          \"No\",\n          \"Yes\"\n        ],\n        \"semantic_type\": \"\",\n        \"description\": \"\"\n      }\n    },\n    {\n      \"column\": \"Age\",\n      \"properties\": {\n        \"dtype\": \"number\",\n        \"std\": 16,\n        \"min\": 18,\n        \"max\": 89,\n        \"num_unique_values\": 67,\n        \"samples\": [\n          78,\n          42\n        ],\n        \"semantic_type\": \"\",\n        \"description\": \"\"\n      }\n    },\n    {\n      \"column\": \"Graduated\",\n      \"properties\": {\n        \"dtype\": \"category\",\n        \"num_unique_values\": 2,\n        \"samples\": [\n          \"No\",\n          \"Yes\"\n        ],\n        \"semantic_type\": \"\",\n        \"description\": \"\"\n      }\n    },\n    {\n      \"column\": \"Profession\",\n      \"properties\": {\n        \"dtype\": \"category\",\n        \"num_unique_values\": 9,\n        \"samples\": [\n          \"Entertainment\",\n          \"Healthcare\"\n        ],\n        \"semantic_type\": \"\",\n        \"description\": \"\"\n      }\n    },\n    {\n      \"column\": \"Work_Experience\",\n      \"properties\": {\n        \"dtype\": \"number\",\n        \"std\": 3.390789548816346,\n        \"min\": 0.0,\n        \"max\": 14.0,\n        \"num_unique_values\": 15,\n        \"samples\": [\n          7.0,\n          13.0\n        ],\n        \"semantic_type\": \"\",\n        \"description\": \"\"\n      }\n    },\n    {\n      \"column\": \"Spending_Score\",\n      \"properties\": {\n        \"dtype\": \"category\",\n        \"num_unique_values\": 3,\n        \"samples\": [\n          \"Low\",\n          \"Average\"\n        ],\n        \"semantic_type\": \"\",\n        \"description\": \"\"\n      }\n    },\n    {\n      \"column\": \"Family_Size\",\n      \"properties\": {\n        \"dtype\": \"number\",\n        \"std\": 1.5364271953730066,\n        \"min\": 1.0,\n        \"max\": 9.0,\n        \"num_unique_values\": 9,\n        \"samples\": [\n          7.0,\n          4.0\n        ],\n        \"semantic_type\": \"\",\n        \"description\": \"\"\n      }\n    },\n    {\n      \"column\": \"Var_1\",\n      \"properties\": {\n        \"dtype\": \"category\",\n        \"num_unique_values\": 7,\n        \"samples\": [\n          \"Cat_6\",\n          \"Cat_4\"\n        ],\n        \"semantic_type\": \"\",\n        \"description\": \"\"\n      }\n    },\n    {\n      \"column\": \"Segmentation\",\n      \"properties\": {\n        \"dtype\": \"category\",\n        \"num_unique_values\": 4,\n        \"samples\": [\n          \"A\",\n          \"D\"\n        ],\n        \"semantic_type\": \"\",\n        \"description\": \"\"\n      }\n    }\n  ]\n}",
       "type": "dataframe",
       "variable_name": "data"
      },
      "text/html": [
       "\n",
       "  <div id=\"df-95af2b99-5bf3-40f9-9c8b-2ef3cb2b95fd\" class=\"colab-df-container\">\n",
       "    <div>\n",
       "<style scoped>\n",
       "    .dataframe tbody tr th:only-of-type {\n",
       "        vertical-align: middle;\n",
       "    }\n",
       "\n",
       "    .dataframe tbody tr th {\n",
       "        vertical-align: top;\n",
       "    }\n",
       "\n",
       "    .dataframe thead th {\n",
       "        text-align: right;\n",
       "    }\n",
       "</style>\n",
       "<table border=\"1\" class=\"dataframe\">\n",
       "  <thead>\n",
       "    <tr style=\"text-align: right;\">\n",
       "      <th></th>\n",
       "      <th>ID</th>\n",
       "      <th>Gender</th>\n",
       "      <th>Ever_Married</th>\n",
       "      <th>Age</th>\n",
       "      <th>Graduated</th>\n",
       "      <th>Profession</th>\n",
       "      <th>Work_Experience</th>\n",
       "      <th>Spending_Score</th>\n",
       "      <th>Family_Size</th>\n",
       "      <th>Var_1</th>\n",
       "      <th>Segmentation</th>\n",
       "    </tr>\n",
       "  </thead>\n",
       "  <tbody>\n",
       "    <tr>\n",
       "      <th>0</th>\n",
       "      <td>458989</td>\n",
       "      <td>Female</td>\n",
       "      <td>Yes</td>\n",
       "      <td>36</td>\n",
       "      <td>Yes</td>\n",
       "      <td>Engineer</td>\n",
       "      <td>0.0</td>\n",
       "      <td>Low</td>\n",
       "      <td>1.0</td>\n",
       "      <td>Cat_6</td>\n",
       "      <td>B</td>\n",
       "    </tr>\n",
       "    <tr>\n",
       "      <th>1</th>\n",
       "      <td>458994</td>\n",
       "      <td>Male</td>\n",
       "      <td>Yes</td>\n",
       "      <td>37</td>\n",
       "      <td>Yes</td>\n",
       "      <td>Healthcare</td>\n",
       "      <td>8.0</td>\n",
       "      <td>Average</td>\n",
       "      <td>4.0</td>\n",
       "      <td>Cat_6</td>\n",
       "      <td>A</td>\n",
       "    </tr>\n",
       "    <tr>\n",
       "      <th>2</th>\n",
       "      <td>458996</td>\n",
       "      <td>Female</td>\n",
       "      <td>Yes</td>\n",
       "      <td>69</td>\n",
       "      <td>No</td>\n",
       "      <td>NaN</td>\n",
       "      <td>0.0</td>\n",
       "      <td>Low</td>\n",
       "      <td>1.0</td>\n",
       "      <td>Cat_6</td>\n",
       "      <td>A</td>\n",
       "    </tr>\n",
       "    <tr>\n",
       "      <th>3</th>\n",
       "      <td>459000</td>\n",
       "      <td>Male</td>\n",
       "      <td>Yes</td>\n",
       "      <td>59</td>\n",
       "      <td>No</td>\n",
       "      <td>Executive</td>\n",
       "      <td>11.0</td>\n",
       "      <td>High</td>\n",
       "      <td>2.0</td>\n",
       "      <td>Cat_6</td>\n",
       "      <td>B</td>\n",
       "    </tr>\n",
       "    <tr>\n",
       "      <th>4</th>\n",
       "      <td>459001</td>\n",
       "      <td>Female</td>\n",
       "      <td>No</td>\n",
       "      <td>19</td>\n",
       "      <td>No</td>\n",
       "      <td>Marketing</td>\n",
       "      <td>NaN</td>\n",
       "      <td>Low</td>\n",
       "      <td>4.0</td>\n",
       "      <td>Cat_6</td>\n",
       "      <td>A</td>\n",
       "    </tr>\n",
       "  </tbody>\n",
       "</table>\n",
       "</div>\n",
       "    <div class=\"colab-df-buttons\">\n",
       "\n",
       "  <div class=\"colab-df-container\">\n",
       "    <button class=\"colab-df-convert\" onclick=\"convertToInteractive('df-95af2b99-5bf3-40f9-9c8b-2ef3cb2b95fd')\"\n",
       "            title=\"Convert this dataframe to an interactive table.\"\n",
       "            style=\"display:none;\">\n",
       "\n",
       "  <svg xmlns=\"http://www.w3.org/2000/svg\" height=\"24px\" viewBox=\"0 -960 960 960\">\n",
       "    <path d=\"M120-120v-720h720v720H120Zm60-500h600v-160H180v160Zm220 220h160v-160H400v160Zm0 220h160v-160H400v160ZM180-400h160v-160H180v160Zm440 0h160v-160H620v160ZM180-180h160v-160H180v160Zm440 0h160v-160H620v160Z\"/>\n",
       "  </svg>\n",
       "    </button>\n",
       "\n",
       "  <style>\n",
       "    .colab-df-container {\n",
       "      display:flex;\n",
       "      gap: 12px;\n",
       "    }\n",
       "\n",
       "    .colab-df-convert {\n",
       "      background-color: #E8F0FE;\n",
       "      border: none;\n",
       "      border-radius: 50%;\n",
       "      cursor: pointer;\n",
       "      display: none;\n",
       "      fill: #1967D2;\n",
       "      height: 32px;\n",
       "      padding: 0 0 0 0;\n",
       "      width: 32px;\n",
       "    }\n",
       "\n",
       "    .colab-df-convert:hover {\n",
       "      background-color: #E2EBFA;\n",
       "      box-shadow: 0px 1px 2px rgba(60, 64, 67, 0.3), 0px 1px 3px 1px rgba(60, 64, 67, 0.15);\n",
       "      fill: #174EA6;\n",
       "    }\n",
       "\n",
       "    .colab-df-buttons div {\n",
       "      margin-bottom: 4px;\n",
       "    }\n",
       "\n",
       "    [theme=dark] .colab-df-convert {\n",
       "      background-color: #3B4455;\n",
       "      fill: #D2E3FC;\n",
       "    }\n",
       "\n",
       "    [theme=dark] .colab-df-convert:hover {\n",
       "      background-color: #434B5C;\n",
       "      box-shadow: 0px 1px 3px 1px rgba(0, 0, 0, 0.15);\n",
       "      filter: drop-shadow(0px 1px 2px rgba(0, 0, 0, 0.3));\n",
       "      fill: #FFFFFF;\n",
       "    }\n",
       "  </style>\n",
       "\n",
       "    <script>\n",
       "      const buttonEl =\n",
       "        document.querySelector('#df-95af2b99-5bf3-40f9-9c8b-2ef3cb2b95fd button.colab-df-convert');\n",
       "      buttonEl.style.display =\n",
       "        google.colab.kernel.accessAllowed ? 'block' : 'none';\n",
       "\n",
       "      async function convertToInteractive(key) {\n",
       "        const element = document.querySelector('#df-95af2b99-5bf3-40f9-9c8b-2ef3cb2b95fd');\n",
       "        const dataTable =\n",
       "          await google.colab.kernel.invokeFunction('convertToInteractive',\n",
       "                                                    [key], {});\n",
       "        if (!dataTable) return;\n",
       "\n",
       "        const docLinkHtml = 'Like what you see? Visit the ' +\n",
       "          '<a target=\"_blank\" href=https://colab.research.google.com/notebooks/data_table.ipynb>data table notebook</a>'\n",
       "          + ' to learn more about interactive tables.';\n",
       "        element.innerHTML = '';\n",
       "        dataTable['output_type'] = 'display_data';\n",
       "        await google.colab.output.renderOutput(dataTable, element);\n",
       "        const docLink = document.createElement('div');\n",
       "        docLink.innerHTML = docLinkHtml;\n",
       "        element.appendChild(docLink);\n",
       "      }\n",
       "    </script>\n",
       "  </div>\n",
       "\n",
       "\n",
       "<div id=\"df-8f229266-bd52-4a60-a4bf-f0bef16ec822\">\n",
       "  <button class=\"colab-df-quickchart\" onclick=\"quickchart('df-8f229266-bd52-4a60-a4bf-f0bef16ec822')\"\n",
       "            title=\"Suggest charts\"\n",
       "            style=\"display:none;\">\n",
       "\n",
       "<svg xmlns=\"http://www.w3.org/2000/svg\" height=\"24px\"viewBox=\"0 0 24 24\"\n",
       "     width=\"24px\">\n",
       "    <g>\n",
       "        <path d=\"M19 3H5c-1.1 0-2 .9-2 2v14c0 1.1.9 2 2 2h14c1.1 0 2-.9 2-2V5c0-1.1-.9-2-2-2zM9 17H7v-7h2v7zm4 0h-2V7h2v10zm4 0h-2v-4h2v4z\"/>\n",
       "    </g>\n",
       "</svg>\n",
       "  </button>\n",
       "\n",
       "<style>\n",
       "  .colab-df-quickchart {\n",
       "      --bg-color: #E8F0FE;\n",
       "      --fill-color: #1967D2;\n",
       "      --hover-bg-color: #E2EBFA;\n",
       "      --hover-fill-color: #174EA6;\n",
       "      --disabled-fill-color: #AAA;\n",
       "      --disabled-bg-color: #DDD;\n",
       "  }\n",
       "\n",
       "  [theme=dark] .colab-df-quickchart {\n",
       "      --bg-color: #3B4455;\n",
       "      --fill-color: #D2E3FC;\n",
       "      --hover-bg-color: #434B5C;\n",
       "      --hover-fill-color: #FFFFFF;\n",
       "      --disabled-bg-color: #3B4455;\n",
       "      --disabled-fill-color: #666;\n",
       "  }\n",
       "\n",
       "  .colab-df-quickchart {\n",
       "    background-color: var(--bg-color);\n",
       "    border: none;\n",
       "    border-radius: 50%;\n",
       "    cursor: pointer;\n",
       "    display: none;\n",
       "    fill: var(--fill-color);\n",
       "    height: 32px;\n",
       "    padding: 0;\n",
       "    width: 32px;\n",
       "  }\n",
       "\n",
       "  .colab-df-quickchart:hover {\n",
       "    background-color: var(--hover-bg-color);\n",
       "    box-shadow: 0 1px 2px rgba(60, 64, 67, 0.3), 0 1px 3px 1px rgba(60, 64, 67, 0.15);\n",
       "    fill: var(--button-hover-fill-color);\n",
       "  }\n",
       "\n",
       "  .colab-df-quickchart-complete:disabled,\n",
       "  .colab-df-quickchart-complete:disabled:hover {\n",
       "    background-color: var(--disabled-bg-color);\n",
       "    fill: var(--disabled-fill-color);\n",
       "    box-shadow: none;\n",
       "  }\n",
       "\n",
       "  .colab-df-spinner {\n",
       "    border: 2px solid var(--fill-color);\n",
       "    border-color: transparent;\n",
       "    border-bottom-color: var(--fill-color);\n",
       "    animation:\n",
       "      spin 1s steps(1) infinite;\n",
       "  }\n",
       "\n",
       "  @keyframes spin {\n",
       "    0% {\n",
       "      border-color: transparent;\n",
       "      border-bottom-color: var(--fill-color);\n",
       "      border-left-color: var(--fill-color);\n",
       "    }\n",
       "    20% {\n",
       "      border-color: transparent;\n",
       "      border-left-color: var(--fill-color);\n",
       "      border-top-color: var(--fill-color);\n",
       "    }\n",
       "    30% {\n",
       "      border-color: transparent;\n",
       "      border-left-color: var(--fill-color);\n",
       "      border-top-color: var(--fill-color);\n",
       "      border-right-color: var(--fill-color);\n",
       "    }\n",
       "    40% {\n",
       "      border-color: transparent;\n",
       "      border-right-color: var(--fill-color);\n",
       "      border-top-color: var(--fill-color);\n",
       "    }\n",
       "    60% {\n",
       "      border-color: transparent;\n",
       "      border-right-color: var(--fill-color);\n",
       "    }\n",
       "    80% {\n",
       "      border-color: transparent;\n",
       "      border-right-color: var(--fill-color);\n",
       "      border-bottom-color: var(--fill-color);\n",
       "    }\n",
       "    90% {\n",
       "      border-color: transparent;\n",
       "      border-bottom-color: var(--fill-color);\n",
       "    }\n",
       "  }\n",
       "</style>\n",
       "\n",
       "  <script>\n",
       "    async function quickchart(key) {\n",
       "      const quickchartButtonEl =\n",
       "        document.querySelector('#' + key + ' button');\n",
       "      quickchartButtonEl.disabled = true;  // To prevent multiple clicks.\n",
       "      quickchartButtonEl.classList.add('colab-df-spinner');\n",
       "      try {\n",
       "        const charts = await google.colab.kernel.invokeFunction(\n",
       "            'suggestCharts', [key], {});\n",
       "      } catch (error) {\n",
       "        console.error('Error during call to suggestCharts:', error);\n",
       "      }\n",
       "      quickchartButtonEl.classList.remove('colab-df-spinner');\n",
       "      quickchartButtonEl.classList.add('colab-df-quickchart-complete');\n",
       "    }\n",
       "    (() => {\n",
       "      let quickchartButtonEl =\n",
       "        document.querySelector('#df-8f229266-bd52-4a60-a4bf-f0bef16ec822 button');\n",
       "      quickchartButtonEl.style.display =\n",
       "        google.colab.kernel.accessAllowed ? 'block' : 'none';\n",
       "    })();\n",
       "  </script>\n",
       "</div>\n",
       "\n",
       "    </div>\n",
       "  </div>\n"
      ],
      "text/plain": [
       "       ID  Gender Ever_Married  Age Graduated  Profession  Work_Experience  \\\n",
       "0  458989  Female          Yes   36       Yes    Engineer              0.0   \n",
       "1  458994    Male          Yes   37       Yes  Healthcare              8.0   \n",
       "2  458996  Female          Yes   69        No         NaN              0.0   \n",
       "3  459000    Male          Yes   59        No   Executive             11.0   \n",
       "4  459001  Female           No   19        No   Marketing              NaN   \n",
       "\n",
       "  Spending_Score  Family_Size  Var_1 Segmentation  \n",
       "0            Low          1.0  Cat_6            B  \n",
       "1        Average          4.0  Cat_6            A  \n",
       "2            Low          1.0  Cat_6            A  \n",
       "3           High          2.0  Cat_6            B  \n",
       "4            Low          4.0  Cat_6            A  "
      ]
     },
     "execution_count": 31,
     "metadata": {},
     "output_type": "execute_result"
    }
   ],
   "source": [
    "data.head()"
   ]
  },
  {
   "cell_type": "code",
   "execution_count": 32,
   "metadata": {
    "colab": {
     "base_uri": "https://localhost:8080/"
    },
    "id": "b3cFcYbUkEZ-",
    "outputId": "4ec9c889-93f3-4432-95f5-c9c597f7ca82"
   },
   "outputs": [
    {
     "name": "stdout",
     "output_type": "stream",
     "text": [
      "<class 'pandas.core.frame.DataFrame'>\n",
      "RangeIndex: 10695 entries, 0 to 10694\n",
      "Data columns (total 11 columns):\n",
      " #   Column           Non-Null Count  Dtype  \n",
      "---  ------           --------------  -----  \n",
      " 0   ID               10695 non-null  int64  \n",
      " 1   Gender           10695 non-null  object \n",
      " 2   Ever_Married     10505 non-null  object \n",
      " 3   Age              10695 non-null  int64  \n",
      " 4   Graduated        10593 non-null  object \n",
      " 5   Profession       10533 non-null  object \n",
      " 6   Work_Experience  9597 non-null   float64\n",
      " 7   Spending_Score   10695 non-null  object \n",
      " 8   Family_Size      10247 non-null  float64\n",
      " 9   Var_1            10587 non-null  object \n",
      " 10  Segmentation     10695 non-null  object \n",
      "dtypes: float64(2), int64(2), object(7)\n",
      "memory usage: 919.2+ KB\n"
     ]
    }
   ],
   "source": [
    "data.info()"
   ]
  },
  {
   "cell_type": "code",
   "execution_count": 33,
   "metadata": {
    "colab": {
     "base_uri": "https://localhost:8080/",
     "height": 300
    },
    "id": "sALxC7zXkF-J",
    "outputId": "836ab355-26d2-47c4-f1c2-6b27e70d102e"
   },
   "outputs": [
    {
     "data": {
      "application/vnd.google.colaboratory.intrinsic+json": {
       "summary": "{\n  \"name\": \"data\",\n  \"rows\": 8,\n  \"fields\": [\n    {\n      \"column\": \"ID\",\n      \"properties\": {\n        \"dtype\": \"number\",\n        \"std\": 211496.3617973166,\n        \"min\": 2600.966410717579,\n        \"max\": 467974.0,\n        \"num_unique_values\": 8,\n        \"samples\": [\n          463468.0886395512,\n          463451.0,\n          10695.0\n        ],\n        \"semantic_type\": \"\",\n        \"description\": \"\"\n      }\n    },\n    {\n      \"column\": \"Age\",\n      \"properties\": {\n        \"dtype\": \"number\",\n        \"std\": 3766.6112977895946,\n        \"min\": 16.774158162521665,\n        \"max\": 10695.0,\n        \"num_unique_values\": 8,\n        \"samples\": [\n          43.51182795698925,\n          41.0,\n          10695.0\n        ],\n        \"semantic_type\": \"\",\n        \"description\": \"\"\n      }\n    },\n    {\n      \"column\": \"Work_Experience\",\n      \"properties\": {\n        \"dtype\": \"number\",\n        \"std\": 3391.7916555541087,\n        \"min\": 0.0,\n        \"max\": 9597.0,\n        \"num_unique_values\": 7,\n        \"samples\": [\n          9597.0,\n          2.619777013650099,\n          4.0\n        ],\n        \"semantic_type\": \"\",\n        \"description\": \"\"\n      }\n    },\n    {\n      \"column\": \"Family_Size\",\n      \"properties\": {\n        \"dtype\": \"number\",\n        \"std\": 3621.6815559906827,\n        \"min\": 1.0,\n        \"max\": 10247.0,\n        \"num_unique_values\": 8,\n        \"samples\": [\n          2.8440519176344297,\n          3.0,\n          10247.0\n        ],\n        \"semantic_type\": \"\",\n        \"description\": \"\"\n      }\n    }\n  ]\n}",
       "type": "dataframe"
      },
      "text/html": [
       "\n",
       "  <div id=\"df-0301ba7f-a401-4dd5-9daa-34e1c36646de\" class=\"colab-df-container\">\n",
       "    <div>\n",
       "<style scoped>\n",
       "    .dataframe tbody tr th:only-of-type {\n",
       "        vertical-align: middle;\n",
       "    }\n",
       "\n",
       "    .dataframe tbody tr th {\n",
       "        vertical-align: top;\n",
       "    }\n",
       "\n",
       "    .dataframe thead th {\n",
       "        text-align: right;\n",
       "    }\n",
       "</style>\n",
       "<table border=\"1\" class=\"dataframe\">\n",
       "  <thead>\n",
       "    <tr style=\"text-align: right;\">\n",
       "      <th></th>\n",
       "      <th>ID</th>\n",
       "      <th>Age</th>\n",
       "      <th>Work_Experience</th>\n",
       "      <th>Family_Size</th>\n",
       "    </tr>\n",
       "  </thead>\n",
       "  <tbody>\n",
       "    <tr>\n",
       "      <th>count</th>\n",
       "      <td>10695.000000</td>\n",
       "      <td>10695.000000</td>\n",
       "      <td>9597.000000</td>\n",
       "      <td>10247.000000</td>\n",
       "    </tr>\n",
       "    <tr>\n",
       "      <th>mean</th>\n",
       "      <td>463468.088640</td>\n",
       "      <td>43.511828</td>\n",
       "      <td>2.619777</td>\n",
       "      <td>2.844052</td>\n",
       "    </tr>\n",
       "    <tr>\n",
       "      <th>std</th>\n",
       "      <td>2600.966411</td>\n",
       "      <td>16.774158</td>\n",
       "      <td>3.390790</td>\n",
       "      <td>1.536427</td>\n",
       "    </tr>\n",
       "    <tr>\n",
       "      <th>min</th>\n",
       "      <td>458982.000000</td>\n",
       "      <td>18.000000</td>\n",
       "      <td>0.000000</td>\n",
       "      <td>1.000000</td>\n",
       "    </tr>\n",
       "    <tr>\n",
       "      <th>25%</th>\n",
       "      <td>461220.500000</td>\n",
       "      <td>30.000000</td>\n",
       "      <td>0.000000</td>\n",
       "      <td>2.000000</td>\n",
       "    </tr>\n",
       "    <tr>\n",
       "      <th>50%</th>\n",
       "      <td>463451.000000</td>\n",
       "      <td>41.000000</td>\n",
       "      <td>1.000000</td>\n",
       "      <td>3.000000</td>\n",
       "    </tr>\n",
       "    <tr>\n",
       "      <th>75%</th>\n",
       "      <td>465733.500000</td>\n",
       "      <td>53.000000</td>\n",
       "      <td>4.000000</td>\n",
       "      <td>4.000000</td>\n",
       "    </tr>\n",
       "    <tr>\n",
       "      <th>max</th>\n",
       "      <td>467974.000000</td>\n",
       "      <td>89.000000</td>\n",
       "      <td>14.000000</td>\n",
       "      <td>9.000000</td>\n",
       "    </tr>\n",
       "  </tbody>\n",
       "</table>\n",
       "</div>\n",
       "    <div class=\"colab-df-buttons\">\n",
       "\n",
       "  <div class=\"colab-df-container\">\n",
       "    <button class=\"colab-df-convert\" onclick=\"convertToInteractive('df-0301ba7f-a401-4dd5-9daa-34e1c36646de')\"\n",
       "            title=\"Convert this dataframe to an interactive table.\"\n",
       "            style=\"display:none;\">\n",
       "\n",
       "  <svg xmlns=\"http://www.w3.org/2000/svg\" height=\"24px\" viewBox=\"0 -960 960 960\">\n",
       "    <path d=\"M120-120v-720h720v720H120Zm60-500h600v-160H180v160Zm220 220h160v-160H400v160Zm0 220h160v-160H400v160ZM180-400h160v-160H180v160Zm440 0h160v-160H620v160ZM180-180h160v-160H180v160Zm440 0h160v-160H620v160Z\"/>\n",
       "  </svg>\n",
       "    </button>\n",
       "\n",
       "  <style>\n",
       "    .colab-df-container {\n",
       "      display:flex;\n",
       "      gap: 12px;\n",
       "    }\n",
       "\n",
       "    .colab-df-convert {\n",
       "      background-color: #E8F0FE;\n",
       "      border: none;\n",
       "      border-radius: 50%;\n",
       "      cursor: pointer;\n",
       "      display: none;\n",
       "      fill: #1967D2;\n",
       "      height: 32px;\n",
       "      padding: 0 0 0 0;\n",
       "      width: 32px;\n",
       "    }\n",
       "\n",
       "    .colab-df-convert:hover {\n",
       "      background-color: #E2EBFA;\n",
       "      box-shadow: 0px 1px 2px rgba(60, 64, 67, 0.3), 0px 1px 3px 1px rgba(60, 64, 67, 0.15);\n",
       "      fill: #174EA6;\n",
       "    }\n",
       "\n",
       "    .colab-df-buttons div {\n",
       "      margin-bottom: 4px;\n",
       "    }\n",
       "\n",
       "    [theme=dark] .colab-df-convert {\n",
       "      background-color: #3B4455;\n",
       "      fill: #D2E3FC;\n",
       "    }\n",
       "\n",
       "    [theme=dark] .colab-df-convert:hover {\n",
       "      background-color: #434B5C;\n",
       "      box-shadow: 0px 1px 3px 1px rgba(0, 0, 0, 0.15);\n",
       "      filter: drop-shadow(0px 1px 2px rgba(0, 0, 0, 0.3));\n",
       "      fill: #FFFFFF;\n",
       "    }\n",
       "  </style>\n",
       "\n",
       "    <script>\n",
       "      const buttonEl =\n",
       "        document.querySelector('#df-0301ba7f-a401-4dd5-9daa-34e1c36646de button.colab-df-convert');\n",
       "      buttonEl.style.display =\n",
       "        google.colab.kernel.accessAllowed ? 'block' : 'none';\n",
       "\n",
       "      async function convertToInteractive(key) {\n",
       "        const element = document.querySelector('#df-0301ba7f-a401-4dd5-9daa-34e1c36646de');\n",
       "        const dataTable =\n",
       "          await google.colab.kernel.invokeFunction('convertToInteractive',\n",
       "                                                    [key], {});\n",
       "        if (!dataTable) return;\n",
       "\n",
       "        const docLinkHtml = 'Like what you see? Visit the ' +\n",
       "          '<a target=\"_blank\" href=https://colab.research.google.com/notebooks/data_table.ipynb>data table notebook</a>'\n",
       "          + ' to learn more about interactive tables.';\n",
       "        element.innerHTML = '';\n",
       "        dataTable['output_type'] = 'display_data';\n",
       "        await google.colab.output.renderOutput(dataTable, element);\n",
       "        const docLink = document.createElement('div');\n",
       "        docLink.innerHTML = docLinkHtml;\n",
       "        element.appendChild(docLink);\n",
       "      }\n",
       "    </script>\n",
       "  </div>\n",
       "\n",
       "\n",
       "<div id=\"df-aad80309-3e37-4a82-b819-3c403ee3a166\">\n",
       "  <button class=\"colab-df-quickchart\" onclick=\"quickchart('df-aad80309-3e37-4a82-b819-3c403ee3a166')\"\n",
       "            title=\"Suggest charts\"\n",
       "            style=\"display:none;\">\n",
       "\n",
       "<svg xmlns=\"http://www.w3.org/2000/svg\" height=\"24px\"viewBox=\"0 0 24 24\"\n",
       "     width=\"24px\">\n",
       "    <g>\n",
       "        <path d=\"M19 3H5c-1.1 0-2 .9-2 2v14c0 1.1.9 2 2 2h14c1.1 0 2-.9 2-2V5c0-1.1-.9-2-2-2zM9 17H7v-7h2v7zm4 0h-2V7h2v10zm4 0h-2v-4h2v4z\"/>\n",
       "    </g>\n",
       "</svg>\n",
       "  </button>\n",
       "\n",
       "<style>\n",
       "  .colab-df-quickchart {\n",
       "      --bg-color: #E8F0FE;\n",
       "      --fill-color: #1967D2;\n",
       "      --hover-bg-color: #E2EBFA;\n",
       "      --hover-fill-color: #174EA6;\n",
       "      --disabled-fill-color: #AAA;\n",
       "      --disabled-bg-color: #DDD;\n",
       "  }\n",
       "\n",
       "  [theme=dark] .colab-df-quickchart {\n",
       "      --bg-color: #3B4455;\n",
       "      --fill-color: #D2E3FC;\n",
       "      --hover-bg-color: #434B5C;\n",
       "      --hover-fill-color: #FFFFFF;\n",
       "      --disabled-bg-color: #3B4455;\n",
       "      --disabled-fill-color: #666;\n",
       "  }\n",
       "\n",
       "  .colab-df-quickchart {\n",
       "    background-color: var(--bg-color);\n",
       "    border: none;\n",
       "    border-radius: 50%;\n",
       "    cursor: pointer;\n",
       "    display: none;\n",
       "    fill: var(--fill-color);\n",
       "    height: 32px;\n",
       "    padding: 0;\n",
       "    width: 32px;\n",
       "  }\n",
       "\n",
       "  .colab-df-quickchart:hover {\n",
       "    background-color: var(--hover-bg-color);\n",
       "    box-shadow: 0 1px 2px rgba(60, 64, 67, 0.3), 0 1px 3px 1px rgba(60, 64, 67, 0.15);\n",
       "    fill: var(--button-hover-fill-color);\n",
       "  }\n",
       "\n",
       "  .colab-df-quickchart-complete:disabled,\n",
       "  .colab-df-quickchart-complete:disabled:hover {\n",
       "    background-color: var(--disabled-bg-color);\n",
       "    fill: var(--disabled-fill-color);\n",
       "    box-shadow: none;\n",
       "  }\n",
       "\n",
       "  .colab-df-spinner {\n",
       "    border: 2px solid var(--fill-color);\n",
       "    border-color: transparent;\n",
       "    border-bottom-color: var(--fill-color);\n",
       "    animation:\n",
       "      spin 1s steps(1) infinite;\n",
       "  }\n",
       "\n",
       "  @keyframes spin {\n",
       "    0% {\n",
       "      border-color: transparent;\n",
       "      border-bottom-color: var(--fill-color);\n",
       "      border-left-color: var(--fill-color);\n",
       "    }\n",
       "    20% {\n",
       "      border-color: transparent;\n",
       "      border-left-color: var(--fill-color);\n",
       "      border-top-color: var(--fill-color);\n",
       "    }\n",
       "    30% {\n",
       "      border-color: transparent;\n",
       "      border-left-color: var(--fill-color);\n",
       "      border-top-color: var(--fill-color);\n",
       "      border-right-color: var(--fill-color);\n",
       "    }\n",
       "    40% {\n",
       "      border-color: transparent;\n",
       "      border-right-color: var(--fill-color);\n",
       "      border-top-color: var(--fill-color);\n",
       "    }\n",
       "    60% {\n",
       "      border-color: transparent;\n",
       "      border-right-color: var(--fill-color);\n",
       "    }\n",
       "    80% {\n",
       "      border-color: transparent;\n",
       "      border-right-color: var(--fill-color);\n",
       "      border-bottom-color: var(--fill-color);\n",
       "    }\n",
       "    90% {\n",
       "      border-color: transparent;\n",
       "      border-bottom-color: var(--fill-color);\n",
       "    }\n",
       "  }\n",
       "</style>\n",
       "\n",
       "  <script>\n",
       "    async function quickchart(key) {\n",
       "      const quickchartButtonEl =\n",
       "        document.querySelector('#' + key + ' button');\n",
       "      quickchartButtonEl.disabled = true;  // To prevent multiple clicks.\n",
       "      quickchartButtonEl.classList.add('colab-df-spinner');\n",
       "      try {\n",
       "        const charts = await google.colab.kernel.invokeFunction(\n",
       "            'suggestCharts', [key], {});\n",
       "      } catch (error) {\n",
       "        console.error('Error during call to suggestCharts:', error);\n",
       "      }\n",
       "      quickchartButtonEl.classList.remove('colab-df-spinner');\n",
       "      quickchartButtonEl.classList.add('colab-df-quickchart-complete');\n",
       "    }\n",
       "    (() => {\n",
       "      let quickchartButtonEl =\n",
       "        document.querySelector('#df-aad80309-3e37-4a82-b819-3c403ee3a166 button');\n",
       "      quickchartButtonEl.style.display =\n",
       "        google.colab.kernel.accessAllowed ? 'block' : 'none';\n",
       "    })();\n",
       "  </script>\n",
       "</div>\n",
       "\n",
       "    </div>\n",
       "  </div>\n"
      ],
      "text/plain": [
       "                  ID           Age  Work_Experience   Family_Size\n",
       "count   10695.000000  10695.000000      9597.000000  10247.000000\n",
       "mean   463468.088640     43.511828         2.619777      2.844052\n",
       "std      2600.966411     16.774158         3.390790      1.536427\n",
       "min    458982.000000     18.000000         0.000000      1.000000\n",
       "25%    461220.500000     30.000000         0.000000      2.000000\n",
       "50%    463451.000000     41.000000         1.000000      3.000000\n",
       "75%    465733.500000     53.000000         4.000000      4.000000\n",
       "max    467974.000000     89.000000        14.000000      9.000000"
      ]
     },
     "execution_count": 33,
     "metadata": {},
     "output_type": "execute_result"
    }
   ],
   "source": [
    "data.describe()"
   ]
  },
  {
   "cell_type": "markdown",
   "metadata": {
    "id": "D-92tP_DkBLK",
    "jp-MarkdownHeadingCollapsed": true
   },
   "source": [
    "#### **Drop Unnecessary Columns**  "
   ]
  },
  {
   "cell_type": "markdown",
   "metadata": {
    "id": "zLjFNQGKkWpw"
   },
   "source": [
    "- ***data.drop(col)*** removes the specified columns from a dataframe."
   ]
  },
  {
   "cell_type": "code",
   "execution_count": 34,
   "metadata": {
    "id": "w6ua4mInka9h"
   },
   "outputs": [],
   "source": [
    "data = data.drop(columns = ['ID'])"
   ]
  },
  {
   "cell_type": "markdown",
   "metadata": {
    "id": "3uPimJX_kiCv"
   },
   "source": [
    "In the code above, we remove the *ID* column because it is unnecessary for the modelling."
   ]
  },
  {
   "cell_type": "markdown",
   "metadata": {
    "id": "bEhHAEX0kkmh",
    "jp-MarkdownHeadingCollapsed": true
   },
   "source": [
    "#### **Check Unique Values from Each Column**"
   ]
  },
  {
   "cell_type": "markdown",
   "metadata": {
    "id": "gXV8Uec-kwBx"
   },
   "source": [
    "- ***data[col].value_counts()*** returns the count of occurrences of unique values in the specified column."
   ]
  },
  {
   "cell_type": "code",
   "execution_count": 35,
   "metadata": {
    "colab": {
     "base_uri": "https://localhost:8080/"
    },
    "id": "Flhhg4iFkzrl",
    "outputId": "bd7f281e-5ffb-433a-d97a-10868645b326"
   },
   "outputs": [
    {
     "name": "stdout",
     "output_type": "stream",
     "text": [
      "Gender\n",
      "Male      5841\n",
      "Female    4854\n",
      "Name: count, dtype: int64 \n",
      "\n",
      "Ever_Married\n",
      "Yes    6163\n",
      "No     4342\n",
      "Name: count, dtype: int64 \n",
      "\n",
      "Age\n",
      "35    321\n",
      "42    320\n",
      "37    304\n",
      "43    301\n",
      "40    300\n",
      "     ... \n",
      "75     37\n",
      "76     36\n",
      "78     36\n",
      "80     33\n",
      "85     32\n",
      "Name: count, Length: 67, dtype: int64 \n",
      "\n",
      "Graduated\n",
      "Yes    6570\n",
      "No     4023\n",
      "Name: count, dtype: int64 \n",
      "\n",
      "Profession\n",
      "Artist           3318\n",
      "Healthcare       1750\n",
      "Entertainment    1250\n",
      "Engineer          935\n",
      "Doctor            930\n",
      "Lawyer            844\n",
      "Executive         775\n",
      "Marketing         403\n",
      "Homemaker         328\n",
      "Name: count, dtype: int64 \n",
      "\n",
      "Work_Experience\n",
      "1.0     3127\n",
      "0.0     3087\n",
      "9.0      613\n",
      "8.0      612\n",
      "2.0      373\n",
      "4.0      346\n",
      "3.0      337\n",
      "5.0      270\n",
      "6.0      265\n",
      "7.0      256\n",
      "14.0      66\n",
      "11.0      64\n",
      "10.0      64\n",
      "12.0      60\n",
      "13.0      57\n",
      "Name: count, dtype: int64 \n",
      "\n",
      "Spending_Score\n",
      "Low        6494\n",
      "Average    2599\n",
      "High       1602\n",
      "Name: count, dtype: int64 \n",
      "\n",
      "Family_Size\n",
      "2.0    3158\n",
      "1.0    1965\n",
      "3.0    1952\n",
      "4.0    1823\n",
      "5.0     812\n",
      "6.0     290\n",
      "7.0     122\n",
      "8.0      65\n",
      "9.0      60\n",
      "Name: count, dtype: int64 \n",
      "\n",
      "Var_1\n",
      "Cat_6    6910\n",
      "Cat_4    1475\n",
      "Cat_3    1089\n",
      "Cat_2     563\n",
      "Cat_7     269\n",
      "Cat_1     167\n",
      "Cat_5     114\n",
      "Name: count, dtype: int64 \n",
      "\n",
      "Segmentation\n",
      "D    3027\n",
      "A    2818\n",
      "C    2442\n",
      "B    2408\n",
      "Name: count, dtype: int64 \n",
      "\n"
     ]
    }
   ],
   "source": [
    "for i in data.columns:\n",
    "    print(f\"{data[i].value_counts()} \\n\")"
   ]
  },
  {
   "cell_type": "markdown",
   "metadata": {
    "id": "BfVwc6Zxk7Lq"
   },
   "source": [
    "Based on the code above, it is known that *Age*, *Work_Experience*, and *Family_Size* are numerical columns, while *Gender*, *Ever_Married*, *Graduated*, *Profession*, *Spending_Score*, *Var_1*, and *Segmentation* are categorical."
   ]
  },
  {
   "cell_type": "markdown",
   "metadata": {
    "id": "siduzatBlZ3v",
    "jp-MarkdownHeadingCollapsed": true
   },
   "source": [
    "#### **Divide Categorical and Numerical Columns**"
   ]
  },
  {
   "cell_type": "markdown",
   "metadata": {
    "id": "TKqyRTdwlgVU"
   },
   "source": [
    "- ***data.columns*** returns the column names from a dataframe.\n",
    "- ***data[col].dtype*** returns the datatype of the specified column.\n",
    "- ***numcols.append()*** and ***catcols.append()*** is used to store columns into its type (categorical/numerical)."
   ]
  },
  {
   "cell_type": "code",
   "execution_count": 36,
   "metadata": {
    "colab": {
     "base_uri": "https://localhost:8080/"
    },
    "id": "QOcwn6celaoq",
    "outputId": "99262d2d-539c-49d3-8606-182eae69e36f"
   },
   "outputs": [
    {
     "name": "stdout",
     "output_type": "stream",
     "text": [
      "Categorical: ['Gender', 'Ever_Married', 'Graduated', 'Profession', 'Spending_Score', 'Var_1', 'Segmentation']\n",
      "Numeric: ['Age', 'Work_Experience', 'Family_Size']\n"
     ]
    }
   ],
   "source": [
    "catcols = []\n",
    "numcols = []\n",
    "\n",
    "for i in data.columns:\n",
    "    if 'int' in str(data[i].dtype) or 'float' in str(data[i].dtype):\n",
    "        numcols.append(i)\n",
    "    else:\n",
    "        catcols.append(i)\n",
    "\n",
    "print(f\"Categorical: {catcols}\")\n",
    "print(f\"Numeric: {numcols}\")"
   ]
  },
  {
   "cell_type": "markdown",
   "metadata": {
    "id": "MhL-iUwfUVyH"
   },
   "source": [
    "Here I divided the categorical and numerical columns to ease the preprocessing and exploration steps."
   ]
  },
  {
   "cell_type": "markdown",
   "metadata": {
    "id": "C6hvThiAmLhe",
    "jp-MarkdownHeadingCollapsed": true
   },
   "source": [
    "#### **Handle Duplicates**"
   ]
  },
  {
   "cell_type": "markdown",
   "metadata": {
    "id": "zrMWO4XkmRj0"
   },
   "source": [
    "- ***data.duplicated().sum()*** is used to return the total duplicates from the observations.  \n",
    "- ***data.drop_duplicates().reset_index(drop)*** is used to drop the duplicated values from the data."
   ]
  },
  {
   "cell_type": "code",
   "execution_count": 37,
   "metadata": {
    "colab": {
     "base_uri": "https://localhost:8080/"
    },
    "id": "plu7OYT9mSEb",
    "outputId": "ea8441b2-1b30-4910-9dcd-ecb31e6a6a40"
   },
   "outputs": [
    {
     "data": {
      "text/plain": [
       "629"
      ]
     },
     "execution_count": 37,
     "metadata": {},
     "output_type": "execute_result"
    }
   ],
   "source": [
    "data.\\\n",
    "  duplicated().\\\n",
    "  sum()"
   ]
  },
  {
   "cell_type": "markdown",
   "metadata": {
    "id": "NYUe_q3JPDXo"
   },
   "source": [
    "There are 629 duplicated observations, so we need to drop them, because they can cause biases on the analysis."
   ]
  },
  {
   "cell_type": "code",
   "execution_count": 38,
   "metadata": {
    "id": "i3Q3ZGCLmbWp"
   },
   "outputs": [],
   "source": [
    "data = data.\\\n",
    "        drop_duplicates().\\\n",
    "        reset_index(drop = True)"
   ]
  },
  {
   "cell_type": "code",
   "execution_count": 39,
   "metadata": {
    "colab": {
     "base_uri": "https://localhost:8080/"
    },
    "id": "anqBLJeMmdJK",
    "outputId": "8a62b222-adcc-417b-8d84-c94ffe3bf1c8"
   },
   "outputs": [
    {
     "data": {
      "text/plain": [
       "0"
      ]
     },
     "execution_count": 39,
     "metadata": {},
     "output_type": "execute_result"
    }
   ],
   "source": [
    "data.\\\n",
    "  duplicated().\\\n",
    "  sum()"
   ]
  },
  {
   "cell_type": "markdown",
   "metadata": {
    "id": "reOg-vYSmqIB"
   },
   "source": [
    "Here, we have dropped the duplicated values."
   ]
  },
  {
   "cell_type": "markdown",
   "metadata": {
    "id": "K6KHUJRKm3-K",
    "jp-MarkdownHeadingCollapsed": true
   },
   "source": [
    "#### **Handle Missing Values**"
   ]
  },
  {
   "cell_type": "markdown",
   "metadata": {
    "id": "-EjBXHSRm7Cn"
   },
   "source": [
    "- ***data.columns.tolist()*** is used to return the column names from a dataframe and store it into a list.  \n",
    "- ***data.isnull().sum().tolist()*** is used to return the number of missing values from each columns of a dataframe and store it into a list.  \n",
    "- ***len(data)*** is used to return the number of observations on the dataframe.  \n",
    "- ***pd.DataFrame()*** is used to create a new dataframe.  \n",
    "- ***data.dropna(subset).reset_index(drop)*** is used to drop NA values from the dataframe on a specified subset of columns.\n",
    "- ***data.loc[]*** locates a specific value on the dataframe.\n",
    "- ***data[col].isna()*** returns a boolean value whether the value is NaN or not.\n",
    "- ***data[col].dropna().median()*** drops the missing values and calculate the median value from a specified column.\n",
    "- ***data[col].mode()[0]*** returns the most frequent value from a specified column.\n",
    "- ***data[col].fillna(mode, inplace)*** imputes mode value into a specified column."
   ]
  },
  {
   "cell_type": "code",
   "execution_count": 40,
   "metadata": {
    "colab": {
     "base_uri": "https://localhost:8080/",
     "height": 363
    },
    "id": "UWrhUyRDm9zs",
    "outputId": "3664877d-0df0-4202-81e1-2d885842a2a9"
   },
   "outputs": [
    {
     "data": {
      "application/vnd.google.colaboratory.intrinsic+json": {
       "summary": "{\n  \"name\": \"missvals\",\n  \"rows\": 10,\n  \"fields\": [\n    {\n      \"column\": \"column_name\",\n      \"properties\": {\n        \"dtype\": \"string\",\n        \"num_unique_values\": 10,\n        \"samples\": [\n          \"Var_1\",\n          \"Ever_Married\",\n          \"Work_Experience\"\n        ],\n        \"semantic_type\": \"\",\n        \"description\": \"\"\n      }\n    },\n    {\n      \"column\": \"total\",\n      \"properties\": {\n        \"dtype\": \"number\",\n        \"std\": 327,\n        \"min\": 0,\n        \"max\": 1053,\n        \"num_unique_values\": 7,\n        \"samples\": [\n          0,\n          189,\n          443\n        ],\n        \"semantic_type\": \"\",\n        \"description\": \"\"\n      }\n    },\n    {\n      \"column\": \"percentage\",\n      \"properties\": {\n        \"dtype\": \"number\",\n        \"std\": 3.255343316074757,\n        \"min\": 0.0,\n        \"max\": 10.460957679316511,\n        \"num_unique_values\": 7,\n        \"samples\": [\n          0.0,\n          1.877607788595271,\n          4.400953705543413\n        ],\n        \"semantic_type\": \"\",\n        \"description\": \"\"\n      }\n    }\n  ]\n}",
       "type": "dataframe",
       "variable_name": "missvals"
      },
      "text/html": [
       "\n",
       "  <div id=\"df-25c1dd51-a628-41ce-b010-8d6c11ddbd28\" class=\"colab-df-container\">\n",
       "    <div>\n",
       "<style scoped>\n",
       "    .dataframe tbody tr th:only-of-type {\n",
       "        vertical-align: middle;\n",
       "    }\n",
       "\n",
       "    .dataframe tbody tr th {\n",
       "        vertical-align: top;\n",
       "    }\n",
       "\n",
       "    .dataframe thead th {\n",
       "        text-align: right;\n",
       "    }\n",
       "</style>\n",
       "<table border=\"1\" class=\"dataframe\">\n",
       "  <thead>\n",
       "    <tr style=\"text-align: right;\">\n",
       "      <th></th>\n",
       "      <th>column_name</th>\n",
       "      <th>total</th>\n",
       "      <th>percentage</th>\n",
       "    </tr>\n",
       "  </thead>\n",
       "  <tbody>\n",
       "    <tr>\n",
       "      <th>0</th>\n",
       "      <td>Gender</td>\n",
       "      <td>0</td>\n",
       "      <td>0.000000</td>\n",
       "    </tr>\n",
       "    <tr>\n",
       "      <th>1</th>\n",
       "      <td>Ever_Married</td>\n",
       "      <td>189</td>\n",
       "      <td>1.877608</td>\n",
       "    </tr>\n",
       "    <tr>\n",
       "      <th>2</th>\n",
       "      <td>Age</td>\n",
       "      <td>0</td>\n",
       "      <td>0.000000</td>\n",
       "    </tr>\n",
       "    <tr>\n",
       "      <th>3</th>\n",
       "      <td>Graduated</td>\n",
       "      <td>100</td>\n",
       "      <td>0.993443</td>\n",
       "    </tr>\n",
       "    <tr>\n",
       "      <th>4</th>\n",
       "      <td>Profession</td>\n",
       "      <td>162</td>\n",
       "      <td>1.609378</td>\n",
       "    </tr>\n",
       "    <tr>\n",
       "      <th>5</th>\n",
       "      <td>Work_Experience</td>\n",
       "      <td>1053</td>\n",
       "      <td>10.460958</td>\n",
       "    </tr>\n",
       "    <tr>\n",
       "      <th>6</th>\n",
       "      <td>Spending_Score</td>\n",
       "      <td>0</td>\n",
       "      <td>0.000000</td>\n",
       "    </tr>\n",
       "    <tr>\n",
       "      <th>7</th>\n",
       "      <td>Family_Size</td>\n",
       "      <td>443</td>\n",
       "      <td>4.400954</td>\n",
       "    </tr>\n",
       "    <tr>\n",
       "      <th>8</th>\n",
       "      <td>Var_1</td>\n",
       "      <td>108</td>\n",
       "      <td>1.072919</td>\n",
       "    </tr>\n",
       "    <tr>\n",
       "      <th>9</th>\n",
       "      <td>Segmentation</td>\n",
       "      <td>0</td>\n",
       "      <td>0.000000</td>\n",
       "    </tr>\n",
       "  </tbody>\n",
       "</table>\n",
       "</div>\n",
       "    <div class=\"colab-df-buttons\">\n",
       "\n",
       "  <div class=\"colab-df-container\">\n",
       "    <button class=\"colab-df-convert\" onclick=\"convertToInteractive('df-25c1dd51-a628-41ce-b010-8d6c11ddbd28')\"\n",
       "            title=\"Convert this dataframe to an interactive table.\"\n",
       "            style=\"display:none;\">\n",
       "\n",
       "  <svg xmlns=\"http://www.w3.org/2000/svg\" height=\"24px\" viewBox=\"0 -960 960 960\">\n",
       "    <path d=\"M120-120v-720h720v720H120Zm60-500h600v-160H180v160Zm220 220h160v-160H400v160Zm0 220h160v-160H400v160ZM180-400h160v-160H180v160Zm440 0h160v-160H620v160ZM180-180h160v-160H180v160Zm440 0h160v-160H620v160Z\"/>\n",
       "  </svg>\n",
       "    </button>\n",
       "\n",
       "  <style>\n",
       "    .colab-df-container {\n",
       "      display:flex;\n",
       "      gap: 12px;\n",
       "    }\n",
       "\n",
       "    .colab-df-convert {\n",
       "      background-color: #E8F0FE;\n",
       "      border: none;\n",
       "      border-radius: 50%;\n",
       "      cursor: pointer;\n",
       "      display: none;\n",
       "      fill: #1967D2;\n",
       "      height: 32px;\n",
       "      padding: 0 0 0 0;\n",
       "      width: 32px;\n",
       "    }\n",
       "\n",
       "    .colab-df-convert:hover {\n",
       "      background-color: #E2EBFA;\n",
       "      box-shadow: 0px 1px 2px rgba(60, 64, 67, 0.3), 0px 1px 3px 1px rgba(60, 64, 67, 0.15);\n",
       "      fill: #174EA6;\n",
       "    }\n",
       "\n",
       "    .colab-df-buttons div {\n",
       "      margin-bottom: 4px;\n",
       "    }\n",
       "\n",
       "    [theme=dark] .colab-df-convert {\n",
       "      background-color: #3B4455;\n",
       "      fill: #D2E3FC;\n",
       "    }\n",
       "\n",
       "    [theme=dark] .colab-df-convert:hover {\n",
       "      background-color: #434B5C;\n",
       "      box-shadow: 0px 1px 3px 1px rgba(0, 0, 0, 0.15);\n",
       "      filter: drop-shadow(0px 1px 2px rgba(0, 0, 0, 0.3));\n",
       "      fill: #FFFFFF;\n",
       "    }\n",
       "  </style>\n",
       "\n",
       "    <script>\n",
       "      const buttonEl =\n",
       "        document.querySelector('#df-25c1dd51-a628-41ce-b010-8d6c11ddbd28 button.colab-df-convert');\n",
       "      buttonEl.style.display =\n",
       "        google.colab.kernel.accessAllowed ? 'block' : 'none';\n",
       "\n",
       "      async function convertToInteractive(key) {\n",
       "        const element = document.querySelector('#df-25c1dd51-a628-41ce-b010-8d6c11ddbd28');\n",
       "        const dataTable =\n",
       "          await google.colab.kernel.invokeFunction('convertToInteractive',\n",
       "                                                    [key], {});\n",
       "        if (!dataTable) return;\n",
       "\n",
       "        const docLinkHtml = 'Like what you see? Visit the ' +\n",
       "          '<a target=\"_blank\" href=https://colab.research.google.com/notebooks/data_table.ipynb>data table notebook</a>'\n",
       "          + ' to learn more about interactive tables.';\n",
       "        element.innerHTML = '';\n",
       "        dataTable['output_type'] = 'display_data';\n",
       "        await google.colab.output.renderOutput(dataTable, element);\n",
       "        const docLink = document.createElement('div');\n",
       "        docLink.innerHTML = docLinkHtml;\n",
       "        element.appendChild(docLink);\n",
       "      }\n",
       "    </script>\n",
       "  </div>\n",
       "\n",
       "\n",
       "<div id=\"df-647bfa81-0f1b-4adf-848d-766786fb57c9\">\n",
       "  <button class=\"colab-df-quickchart\" onclick=\"quickchart('df-647bfa81-0f1b-4adf-848d-766786fb57c9')\"\n",
       "            title=\"Suggest charts\"\n",
       "            style=\"display:none;\">\n",
       "\n",
       "<svg xmlns=\"http://www.w3.org/2000/svg\" height=\"24px\"viewBox=\"0 0 24 24\"\n",
       "     width=\"24px\">\n",
       "    <g>\n",
       "        <path d=\"M19 3H5c-1.1 0-2 .9-2 2v14c0 1.1.9 2 2 2h14c1.1 0 2-.9 2-2V5c0-1.1-.9-2-2-2zM9 17H7v-7h2v7zm4 0h-2V7h2v10zm4 0h-2v-4h2v4z\"/>\n",
       "    </g>\n",
       "</svg>\n",
       "  </button>\n",
       "\n",
       "<style>\n",
       "  .colab-df-quickchart {\n",
       "      --bg-color: #E8F0FE;\n",
       "      --fill-color: #1967D2;\n",
       "      --hover-bg-color: #E2EBFA;\n",
       "      --hover-fill-color: #174EA6;\n",
       "      --disabled-fill-color: #AAA;\n",
       "      --disabled-bg-color: #DDD;\n",
       "  }\n",
       "\n",
       "  [theme=dark] .colab-df-quickchart {\n",
       "      --bg-color: #3B4455;\n",
       "      --fill-color: #D2E3FC;\n",
       "      --hover-bg-color: #434B5C;\n",
       "      --hover-fill-color: #FFFFFF;\n",
       "      --disabled-bg-color: #3B4455;\n",
       "      --disabled-fill-color: #666;\n",
       "  }\n",
       "\n",
       "  .colab-df-quickchart {\n",
       "    background-color: var(--bg-color);\n",
       "    border: none;\n",
       "    border-radius: 50%;\n",
       "    cursor: pointer;\n",
       "    display: none;\n",
       "    fill: var(--fill-color);\n",
       "    height: 32px;\n",
       "    padding: 0;\n",
       "    width: 32px;\n",
       "  }\n",
       "\n",
       "  .colab-df-quickchart:hover {\n",
       "    background-color: var(--hover-bg-color);\n",
       "    box-shadow: 0 1px 2px rgba(60, 64, 67, 0.3), 0 1px 3px 1px rgba(60, 64, 67, 0.15);\n",
       "    fill: var(--button-hover-fill-color);\n",
       "  }\n",
       "\n",
       "  .colab-df-quickchart-complete:disabled,\n",
       "  .colab-df-quickchart-complete:disabled:hover {\n",
       "    background-color: var(--disabled-bg-color);\n",
       "    fill: var(--disabled-fill-color);\n",
       "    box-shadow: none;\n",
       "  }\n",
       "\n",
       "  .colab-df-spinner {\n",
       "    border: 2px solid var(--fill-color);\n",
       "    border-color: transparent;\n",
       "    border-bottom-color: var(--fill-color);\n",
       "    animation:\n",
       "      spin 1s steps(1) infinite;\n",
       "  }\n",
       "\n",
       "  @keyframes spin {\n",
       "    0% {\n",
       "      border-color: transparent;\n",
       "      border-bottom-color: var(--fill-color);\n",
       "      border-left-color: var(--fill-color);\n",
       "    }\n",
       "    20% {\n",
       "      border-color: transparent;\n",
       "      border-left-color: var(--fill-color);\n",
       "      border-top-color: var(--fill-color);\n",
       "    }\n",
       "    30% {\n",
       "      border-color: transparent;\n",
       "      border-left-color: var(--fill-color);\n",
       "      border-top-color: var(--fill-color);\n",
       "      border-right-color: var(--fill-color);\n",
       "    }\n",
       "    40% {\n",
       "      border-color: transparent;\n",
       "      border-right-color: var(--fill-color);\n",
       "      border-top-color: var(--fill-color);\n",
       "    }\n",
       "    60% {\n",
       "      border-color: transparent;\n",
       "      border-right-color: var(--fill-color);\n",
       "    }\n",
       "    80% {\n",
       "      border-color: transparent;\n",
       "      border-right-color: var(--fill-color);\n",
       "      border-bottom-color: var(--fill-color);\n",
       "    }\n",
       "    90% {\n",
       "      border-color: transparent;\n",
       "      border-bottom-color: var(--fill-color);\n",
       "    }\n",
       "  }\n",
       "</style>\n",
       "\n",
       "  <script>\n",
       "    async function quickchart(key) {\n",
       "      const quickchartButtonEl =\n",
       "        document.querySelector('#' + key + ' button');\n",
       "      quickchartButtonEl.disabled = true;  // To prevent multiple clicks.\n",
       "      quickchartButtonEl.classList.add('colab-df-spinner');\n",
       "      try {\n",
       "        const charts = await google.colab.kernel.invokeFunction(\n",
       "            'suggestCharts', [key], {});\n",
       "      } catch (error) {\n",
       "        console.error('Error during call to suggestCharts:', error);\n",
       "      }\n",
       "      quickchartButtonEl.classList.remove('colab-df-spinner');\n",
       "      quickchartButtonEl.classList.add('colab-df-quickchart-complete');\n",
       "    }\n",
       "    (() => {\n",
       "      let quickchartButtonEl =\n",
       "        document.querySelector('#df-647bfa81-0f1b-4adf-848d-766786fb57c9 button');\n",
       "      quickchartButtonEl.style.display =\n",
       "        google.colab.kernel.accessAllowed ? 'block' : 'none';\n",
       "    })();\n",
       "  </script>\n",
       "</div>\n",
       "\n",
       "  <div id=\"id_5d5eace7-9b93-4362-8d6b-77ece3040dd0\">\n",
       "    <style>\n",
       "      .colab-df-generate {\n",
       "        background-color: #E8F0FE;\n",
       "        border: none;\n",
       "        border-radius: 50%;\n",
       "        cursor: pointer;\n",
       "        display: none;\n",
       "        fill: #1967D2;\n",
       "        height: 32px;\n",
       "        padding: 0 0 0 0;\n",
       "        width: 32px;\n",
       "      }\n",
       "\n",
       "      .colab-df-generate:hover {\n",
       "        background-color: #E2EBFA;\n",
       "        box-shadow: 0px 1px 2px rgba(60, 64, 67, 0.3), 0px 1px 3px 1px rgba(60, 64, 67, 0.15);\n",
       "        fill: #174EA6;\n",
       "      }\n",
       "\n",
       "      [theme=dark] .colab-df-generate {\n",
       "        background-color: #3B4455;\n",
       "        fill: #D2E3FC;\n",
       "      }\n",
       "\n",
       "      [theme=dark] .colab-df-generate:hover {\n",
       "        background-color: #434B5C;\n",
       "        box-shadow: 0px 1px 3px 1px rgba(0, 0, 0, 0.15);\n",
       "        filter: drop-shadow(0px 1px 2px rgba(0, 0, 0, 0.3));\n",
       "        fill: #FFFFFF;\n",
       "      }\n",
       "    </style>\n",
       "    <button class=\"colab-df-generate\" onclick=\"generateWithVariable('missvals')\"\n",
       "            title=\"Generate code using this dataframe.\"\n",
       "            style=\"display:none;\">\n",
       "\n",
       "  <svg xmlns=\"http://www.w3.org/2000/svg\" height=\"24px\"viewBox=\"0 0 24 24\"\n",
       "       width=\"24px\">\n",
       "    <path d=\"M7,19H8.4L18.45,9,17,7.55,7,17.6ZM5,21V16.75L18.45,3.32a2,2,0,0,1,2.83,0l1.4,1.43a1.91,1.91,0,0,1,.58,1.4,1.91,1.91,0,0,1-.58,1.4L9.25,21ZM18.45,9,17,7.55Zm-12,3A5.31,5.31,0,0,0,4.9,8.1,5.31,5.31,0,0,0,1,6.5,5.31,5.31,0,0,0,4.9,4.9,5.31,5.31,0,0,0,6.5,1,5.31,5.31,0,0,0,8.1,4.9,5.31,5.31,0,0,0,12,6.5,5.46,5.46,0,0,0,6.5,12Z\"/>\n",
       "  </svg>\n",
       "    </button>\n",
       "    <script>\n",
       "      (() => {\n",
       "      const buttonEl =\n",
       "        document.querySelector('#id_5d5eace7-9b93-4362-8d6b-77ece3040dd0 button.colab-df-generate');\n",
       "      buttonEl.style.display =\n",
       "        google.colab.kernel.accessAllowed ? 'block' : 'none';\n",
       "\n",
       "      buttonEl.onclick = () => {\n",
       "        google.colab.notebook.generateWithVariable('missvals');\n",
       "      }\n",
       "      })();\n",
       "    </script>\n",
       "  </div>\n",
       "\n",
       "    </div>\n",
       "  </div>\n"
      ],
      "text/plain": [
       "       column_name  total  percentage\n",
       "0           Gender      0    0.000000\n",
       "1     Ever_Married    189    1.877608\n",
       "2              Age      0    0.000000\n",
       "3        Graduated    100    0.993443\n",
       "4       Profession    162    1.609378\n",
       "5  Work_Experience   1053   10.460958\n",
       "6   Spending_Score      0    0.000000\n",
       "7      Family_Size    443    4.400954\n",
       "8            Var_1    108    1.072919\n",
       "9     Segmentation      0    0.000000"
      ]
     },
     "execution_count": 40,
     "metadata": {},
     "output_type": "execute_result"
    }
   ],
   "source": [
    "missvals = pd.DataFrame({\n",
    "    'column_name': data.\\\n",
    "                    columns.\\\n",
    "                    tolist(),\n",
    "    'total': data.\\\n",
    "              isnull().\\\n",
    "              sum().\\\n",
    "              tolist(),\n",
    "    'percentage': ((data.isnull().sum()) * 100/len(data)).\\\n",
    "                    tolist(),\n",
    "})\n",
    "\n",
    "missvals"
   ]
  },
  {
   "cell_type": "markdown",
   "metadata": {
    "id": "JpRIoI44nFIN"
   },
   "source": [
    "Based on the output above, there are 189 missing values from the *Ever_Married* column, 100 on the *Graduated* column, 162 on the *Profession* column, 1053 on  the *Work_Experience* column, 443 on the *Family_Size* column, and 108 on the *Var_1* column.  \n",
    "Since the missing values on the *Work_Experience* is greater than 5%, so we will drop the missing values, because imputing the missing values will cause bias on the analysis."
   ]
  },
  {
   "cell_type": "markdown",
   "metadata": {
    "id": "JEnscQj6Uj4y"
   },
   "source": [
    "**Drop**"
   ]
  },
  {
   "cell_type": "code",
   "execution_count": 41,
   "metadata": {
    "id": "JfgEcf1xpq5a"
   },
   "outputs": [],
   "source": [
    "data = data.\\\n",
    "        dropna(subset = ['Work_Experience']).\\\n",
    "        reset_index(drop = True)"
   ]
  },
  {
   "cell_type": "code",
   "execution_count": 42,
   "metadata": {
    "colab": {
     "base_uri": "https://localhost:8080/",
     "height": 363
    },
    "id": "kGW_OKlyqHgJ",
    "outputId": "7dbc9026-459a-430a-d507-1a80deb06a23"
   },
   "outputs": [
    {
     "data": {
      "application/vnd.google.colaboratory.intrinsic+json": {
       "summary": "{\n  \"name\": \"missvals\",\n  \"rows\": 10,\n  \"fields\": [\n    {\n      \"column\": \"column_name\",\n      \"properties\": {\n        \"dtype\": \"string\",\n        \"num_unique_values\": 10,\n        \"samples\": [\n          \"Var_1\",\n          \"Ever_Married\",\n          \"Work_Experience\"\n        ],\n        \"semantic_type\": \"\",\n        \"description\": \"\"\n      }\n    },\n    {\n      \"column\": \"total\",\n      \"properties\": {\n        \"dtype\": \"number\",\n        \"std\": 114,\n        \"min\": 0,\n        \"max\": 357,\n        \"num_unique_values\": 6,\n        \"samples\": [\n          0,\n          160,\n          94\n        ],\n        \"semantic_type\": \"\",\n        \"description\": \"\"\n      }\n    },\n    {\n      \"column\": \"percentage\",\n      \"properties\": {\n        \"dtype\": \"number\",\n        \"std\": 1.2687288716939127,\n        \"min\": 0.0,\n        \"max\": 3.9609453012315545,\n        \"num_unique_values\": 6,\n        \"samples\": [\n          0.0,\n          1.77521358038389,\n          1.0429379784755353\n        ],\n        \"semantic_type\": \"\",\n        \"description\": \"\"\n      }\n    }\n  ]\n}",
       "type": "dataframe",
       "variable_name": "missvals"
      },
      "text/html": [
       "\n",
       "  <div id=\"df-d5f9b316-7de3-4179-b38d-d7f5dc73b65e\" class=\"colab-df-container\">\n",
       "    <div>\n",
       "<style scoped>\n",
       "    .dataframe tbody tr th:only-of-type {\n",
       "        vertical-align: middle;\n",
       "    }\n",
       "\n",
       "    .dataframe tbody tr th {\n",
       "        vertical-align: top;\n",
       "    }\n",
       "\n",
       "    .dataframe thead th {\n",
       "        text-align: right;\n",
       "    }\n",
       "</style>\n",
       "<table border=\"1\" class=\"dataframe\">\n",
       "  <thead>\n",
       "    <tr style=\"text-align: right;\">\n",
       "      <th></th>\n",
       "      <th>column_name</th>\n",
       "      <th>total</th>\n",
       "      <th>percentage</th>\n",
       "    </tr>\n",
       "  </thead>\n",
       "  <tbody>\n",
       "    <tr>\n",
       "      <th>0</th>\n",
       "      <td>Gender</td>\n",
       "      <td>0</td>\n",
       "      <td>0.000000</td>\n",
       "    </tr>\n",
       "    <tr>\n",
       "      <th>1</th>\n",
       "      <td>Ever_Married</td>\n",
       "      <td>160</td>\n",
       "      <td>1.775214</td>\n",
       "    </tr>\n",
       "    <tr>\n",
       "      <th>2</th>\n",
       "      <td>Age</td>\n",
       "      <td>0</td>\n",
       "      <td>0.000000</td>\n",
       "    </tr>\n",
       "    <tr>\n",
       "      <th>3</th>\n",
       "      <td>Graduated</td>\n",
       "      <td>84</td>\n",
       "      <td>0.931987</td>\n",
       "    </tr>\n",
       "    <tr>\n",
       "      <th>4</th>\n",
       "      <td>Profession</td>\n",
       "      <td>129</td>\n",
       "      <td>1.431266</td>\n",
       "    </tr>\n",
       "    <tr>\n",
       "      <th>5</th>\n",
       "      <td>Work_Experience</td>\n",
       "      <td>0</td>\n",
       "      <td>0.000000</td>\n",
       "    </tr>\n",
       "    <tr>\n",
       "      <th>6</th>\n",
       "      <td>Spending_Score</td>\n",
       "      <td>0</td>\n",
       "      <td>0.000000</td>\n",
       "    </tr>\n",
       "    <tr>\n",
       "      <th>7</th>\n",
       "      <td>Family_Size</td>\n",
       "      <td>357</td>\n",
       "      <td>3.960945</td>\n",
       "    </tr>\n",
       "    <tr>\n",
       "      <th>8</th>\n",
       "      <td>Var_1</td>\n",
       "      <td>94</td>\n",
       "      <td>1.042938</td>\n",
       "    </tr>\n",
       "    <tr>\n",
       "      <th>9</th>\n",
       "      <td>Segmentation</td>\n",
       "      <td>0</td>\n",
       "      <td>0.000000</td>\n",
       "    </tr>\n",
       "  </tbody>\n",
       "</table>\n",
       "</div>\n",
       "    <div class=\"colab-df-buttons\">\n",
       "\n",
       "  <div class=\"colab-df-container\">\n",
       "    <button class=\"colab-df-convert\" onclick=\"convertToInteractive('df-d5f9b316-7de3-4179-b38d-d7f5dc73b65e')\"\n",
       "            title=\"Convert this dataframe to an interactive table.\"\n",
       "            style=\"display:none;\">\n",
       "\n",
       "  <svg xmlns=\"http://www.w3.org/2000/svg\" height=\"24px\" viewBox=\"0 -960 960 960\">\n",
       "    <path d=\"M120-120v-720h720v720H120Zm60-500h600v-160H180v160Zm220 220h160v-160H400v160Zm0 220h160v-160H400v160ZM180-400h160v-160H180v160Zm440 0h160v-160H620v160ZM180-180h160v-160H180v160Zm440 0h160v-160H620v160Z\"/>\n",
       "  </svg>\n",
       "    </button>\n",
       "\n",
       "  <style>\n",
       "    .colab-df-container {\n",
       "      display:flex;\n",
       "      gap: 12px;\n",
       "    }\n",
       "\n",
       "    .colab-df-convert {\n",
       "      background-color: #E8F0FE;\n",
       "      border: none;\n",
       "      border-radius: 50%;\n",
       "      cursor: pointer;\n",
       "      display: none;\n",
       "      fill: #1967D2;\n",
       "      height: 32px;\n",
       "      padding: 0 0 0 0;\n",
       "      width: 32px;\n",
       "    }\n",
       "\n",
       "    .colab-df-convert:hover {\n",
       "      background-color: #E2EBFA;\n",
       "      box-shadow: 0px 1px 2px rgba(60, 64, 67, 0.3), 0px 1px 3px 1px rgba(60, 64, 67, 0.15);\n",
       "      fill: #174EA6;\n",
       "    }\n",
       "\n",
       "    .colab-df-buttons div {\n",
       "      margin-bottom: 4px;\n",
       "    }\n",
       "\n",
       "    [theme=dark] .colab-df-convert {\n",
       "      background-color: #3B4455;\n",
       "      fill: #D2E3FC;\n",
       "    }\n",
       "\n",
       "    [theme=dark] .colab-df-convert:hover {\n",
       "      background-color: #434B5C;\n",
       "      box-shadow: 0px 1px 3px 1px rgba(0, 0, 0, 0.15);\n",
       "      filter: drop-shadow(0px 1px 2px rgba(0, 0, 0, 0.3));\n",
       "      fill: #FFFFFF;\n",
       "    }\n",
       "  </style>\n",
       "\n",
       "    <script>\n",
       "      const buttonEl =\n",
       "        document.querySelector('#df-d5f9b316-7de3-4179-b38d-d7f5dc73b65e button.colab-df-convert');\n",
       "      buttonEl.style.display =\n",
       "        google.colab.kernel.accessAllowed ? 'block' : 'none';\n",
       "\n",
       "      async function convertToInteractive(key) {\n",
       "        const element = document.querySelector('#df-d5f9b316-7de3-4179-b38d-d7f5dc73b65e');\n",
       "        const dataTable =\n",
       "          await google.colab.kernel.invokeFunction('convertToInteractive',\n",
       "                                                    [key], {});\n",
       "        if (!dataTable) return;\n",
       "\n",
       "        const docLinkHtml = 'Like what you see? Visit the ' +\n",
       "          '<a target=\"_blank\" href=https://colab.research.google.com/notebooks/data_table.ipynb>data table notebook</a>'\n",
       "          + ' to learn more about interactive tables.';\n",
       "        element.innerHTML = '';\n",
       "        dataTable['output_type'] = 'display_data';\n",
       "        await google.colab.output.renderOutput(dataTable, element);\n",
       "        const docLink = document.createElement('div');\n",
       "        docLink.innerHTML = docLinkHtml;\n",
       "        element.appendChild(docLink);\n",
       "      }\n",
       "    </script>\n",
       "  </div>\n",
       "\n",
       "\n",
       "<div id=\"df-00ffaef6-e827-4523-86c8-4256e08a2b99\">\n",
       "  <button class=\"colab-df-quickchart\" onclick=\"quickchart('df-00ffaef6-e827-4523-86c8-4256e08a2b99')\"\n",
       "            title=\"Suggest charts\"\n",
       "            style=\"display:none;\">\n",
       "\n",
       "<svg xmlns=\"http://www.w3.org/2000/svg\" height=\"24px\"viewBox=\"0 0 24 24\"\n",
       "     width=\"24px\">\n",
       "    <g>\n",
       "        <path d=\"M19 3H5c-1.1 0-2 .9-2 2v14c0 1.1.9 2 2 2h14c1.1 0 2-.9 2-2V5c0-1.1-.9-2-2-2zM9 17H7v-7h2v7zm4 0h-2V7h2v10zm4 0h-2v-4h2v4z\"/>\n",
       "    </g>\n",
       "</svg>\n",
       "  </button>\n",
       "\n",
       "<style>\n",
       "  .colab-df-quickchart {\n",
       "      --bg-color: #E8F0FE;\n",
       "      --fill-color: #1967D2;\n",
       "      --hover-bg-color: #E2EBFA;\n",
       "      --hover-fill-color: #174EA6;\n",
       "      --disabled-fill-color: #AAA;\n",
       "      --disabled-bg-color: #DDD;\n",
       "  }\n",
       "\n",
       "  [theme=dark] .colab-df-quickchart {\n",
       "      --bg-color: #3B4455;\n",
       "      --fill-color: #D2E3FC;\n",
       "      --hover-bg-color: #434B5C;\n",
       "      --hover-fill-color: #FFFFFF;\n",
       "      --disabled-bg-color: #3B4455;\n",
       "      --disabled-fill-color: #666;\n",
       "  }\n",
       "\n",
       "  .colab-df-quickchart {\n",
       "    background-color: var(--bg-color);\n",
       "    border: none;\n",
       "    border-radius: 50%;\n",
       "    cursor: pointer;\n",
       "    display: none;\n",
       "    fill: var(--fill-color);\n",
       "    height: 32px;\n",
       "    padding: 0;\n",
       "    width: 32px;\n",
       "  }\n",
       "\n",
       "  .colab-df-quickchart:hover {\n",
       "    background-color: var(--hover-bg-color);\n",
       "    box-shadow: 0 1px 2px rgba(60, 64, 67, 0.3), 0 1px 3px 1px rgba(60, 64, 67, 0.15);\n",
       "    fill: var(--button-hover-fill-color);\n",
       "  }\n",
       "\n",
       "  .colab-df-quickchart-complete:disabled,\n",
       "  .colab-df-quickchart-complete:disabled:hover {\n",
       "    background-color: var(--disabled-bg-color);\n",
       "    fill: var(--disabled-fill-color);\n",
       "    box-shadow: none;\n",
       "  }\n",
       "\n",
       "  .colab-df-spinner {\n",
       "    border: 2px solid var(--fill-color);\n",
       "    border-color: transparent;\n",
       "    border-bottom-color: var(--fill-color);\n",
       "    animation:\n",
       "      spin 1s steps(1) infinite;\n",
       "  }\n",
       "\n",
       "  @keyframes spin {\n",
       "    0% {\n",
       "      border-color: transparent;\n",
       "      border-bottom-color: var(--fill-color);\n",
       "      border-left-color: var(--fill-color);\n",
       "    }\n",
       "    20% {\n",
       "      border-color: transparent;\n",
       "      border-left-color: var(--fill-color);\n",
       "      border-top-color: var(--fill-color);\n",
       "    }\n",
       "    30% {\n",
       "      border-color: transparent;\n",
       "      border-left-color: var(--fill-color);\n",
       "      border-top-color: var(--fill-color);\n",
       "      border-right-color: var(--fill-color);\n",
       "    }\n",
       "    40% {\n",
       "      border-color: transparent;\n",
       "      border-right-color: var(--fill-color);\n",
       "      border-top-color: var(--fill-color);\n",
       "    }\n",
       "    60% {\n",
       "      border-color: transparent;\n",
       "      border-right-color: var(--fill-color);\n",
       "    }\n",
       "    80% {\n",
       "      border-color: transparent;\n",
       "      border-right-color: var(--fill-color);\n",
       "      border-bottom-color: var(--fill-color);\n",
       "    }\n",
       "    90% {\n",
       "      border-color: transparent;\n",
       "      border-bottom-color: var(--fill-color);\n",
       "    }\n",
       "  }\n",
       "</style>\n",
       "\n",
       "  <script>\n",
       "    async function quickchart(key) {\n",
       "      const quickchartButtonEl =\n",
       "        document.querySelector('#' + key + ' button');\n",
       "      quickchartButtonEl.disabled = true;  // To prevent multiple clicks.\n",
       "      quickchartButtonEl.classList.add('colab-df-spinner');\n",
       "      try {\n",
       "        const charts = await google.colab.kernel.invokeFunction(\n",
       "            'suggestCharts', [key], {});\n",
       "      } catch (error) {\n",
       "        console.error('Error during call to suggestCharts:', error);\n",
       "      }\n",
       "      quickchartButtonEl.classList.remove('colab-df-spinner');\n",
       "      quickchartButtonEl.classList.add('colab-df-quickchart-complete');\n",
       "    }\n",
       "    (() => {\n",
       "      let quickchartButtonEl =\n",
       "        document.querySelector('#df-00ffaef6-e827-4523-86c8-4256e08a2b99 button');\n",
       "      quickchartButtonEl.style.display =\n",
       "        google.colab.kernel.accessAllowed ? 'block' : 'none';\n",
       "    })();\n",
       "  </script>\n",
       "</div>\n",
       "\n",
       "  <div id=\"id_9b9cb3c7-0917-4500-9c58-de3f2fdf8335\">\n",
       "    <style>\n",
       "      .colab-df-generate {\n",
       "        background-color: #E8F0FE;\n",
       "        border: none;\n",
       "        border-radius: 50%;\n",
       "        cursor: pointer;\n",
       "        display: none;\n",
       "        fill: #1967D2;\n",
       "        height: 32px;\n",
       "        padding: 0 0 0 0;\n",
       "        width: 32px;\n",
       "      }\n",
       "\n",
       "      .colab-df-generate:hover {\n",
       "        background-color: #E2EBFA;\n",
       "        box-shadow: 0px 1px 2px rgba(60, 64, 67, 0.3), 0px 1px 3px 1px rgba(60, 64, 67, 0.15);\n",
       "        fill: #174EA6;\n",
       "      }\n",
       "\n",
       "      [theme=dark] .colab-df-generate {\n",
       "        background-color: #3B4455;\n",
       "        fill: #D2E3FC;\n",
       "      }\n",
       "\n",
       "      [theme=dark] .colab-df-generate:hover {\n",
       "        background-color: #434B5C;\n",
       "        box-shadow: 0px 1px 3px 1px rgba(0, 0, 0, 0.15);\n",
       "        filter: drop-shadow(0px 1px 2px rgba(0, 0, 0, 0.3));\n",
       "        fill: #FFFFFF;\n",
       "      }\n",
       "    </style>\n",
       "    <button class=\"colab-df-generate\" onclick=\"generateWithVariable('missvals')\"\n",
       "            title=\"Generate code using this dataframe.\"\n",
       "            style=\"display:none;\">\n",
       "\n",
       "  <svg xmlns=\"http://www.w3.org/2000/svg\" height=\"24px\"viewBox=\"0 0 24 24\"\n",
       "       width=\"24px\">\n",
       "    <path d=\"M7,19H8.4L18.45,9,17,7.55,7,17.6ZM5,21V16.75L18.45,3.32a2,2,0,0,1,2.83,0l1.4,1.43a1.91,1.91,0,0,1,.58,1.4,1.91,1.91,0,0,1-.58,1.4L9.25,21ZM18.45,9,17,7.55Zm-12,3A5.31,5.31,0,0,0,4.9,8.1,5.31,5.31,0,0,0,1,6.5,5.31,5.31,0,0,0,4.9,4.9,5.31,5.31,0,0,0,6.5,1,5.31,5.31,0,0,0,8.1,4.9,5.31,5.31,0,0,0,12,6.5,5.46,5.46,0,0,0,6.5,12Z\"/>\n",
       "  </svg>\n",
       "    </button>\n",
       "    <script>\n",
       "      (() => {\n",
       "      const buttonEl =\n",
       "        document.querySelector('#id_9b9cb3c7-0917-4500-9c58-de3f2fdf8335 button.colab-df-generate');\n",
       "      buttonEl.style.display =\n",
       "        google.colab.kernel.accessAllowed ? 'block' : 'none';\n",
       "\n",
       "      buttonEl.onclick = () => {\n",
       "        google.colab.notebook.generateWithVariable('missvals');\n",
       "      }\n",
       "      })();\n",
       "    </script>\n",
       "  </div>\n",
       "\n",
       "    </div>\n",
       "  </div>\n"
      ],
      "text/plain": [
       "       column_name  total  percentage\n",
       "0           Gender      0    0.000000\n",
       "1     Ever_Married    160    1.775214\n",
       "2              Age      0    0.000000\n",
       "3        Graduated     84    0.931987\n",
       "4       Profession    129    1.431266\n",
       "5  Work_Experience      0    0.000000\n",
       "6   Spending_Score      0    0.000000\n",
       "7      Family_Size    357    3.960945\n",
       "8            Var_1     94    1.042938\n",
       "9     Segmentation      0    0.000000"
      ]
     },
     "execution_count": 42,
     "metadata": {},
     "output_type": "execute_result"
    }
   ],
   "source": [
    "missvals = pd.DataFrame({\n",
    "    'column_name': data.\\\n",
    "                    columns.\\\n",
    "                    tolist(),\n",
    "    'total': data.\\\n",
    "              isnull().\\\n",
    "              sum().\\\n",
    "              tolist(),\n",
    "    'percentage': ((data.isnull().sum()) * 100/len(data)).\\\n",
    "                    tolist(),\n",
    "})\n",
    "\n",
    "missvals"
   ]
  },
  {
   "cell_type": "markdown",
   "metadata": {
    "id": "WBCxMZ6SqKvw"
   },
   "source": [
    "After removing missing values from the *Work_Experience*, we apparently have 160 missing values from the *Ever_Married* column, 84 from the *Graduated* column, 129 from the *Profession* column, 357 from the *Family_Size* column, and 94 from the *Var_1* column.  \n",
    "Since all of these columns has less than 5% of missing values, then we will impute the values with synthesized values (median for numerical columns and mode for categorical columns)."
   ]
  },
  {
   "cell_type": "markdown",
   "metadata": {
    "id": "XBvaBb8RPq2i"
   },
   "source": [
    "**Impute : Numerical Column**"
   ]
  },
  {
   "cell_type": "code",
   "execution_count": 43,
   "metadata": {
    "id": "1PS6y6gzrSzl"
   },
   "outputs": [],
   "source": [
    "data.loc[data['Family_Size'].isna(), 'Family_Size'] = data['Family_Size'].\\\n",
    "                                                        dropna().\\\n",
    "                                                        median()"
   ]
  },
  {
   "cell_type": "markdown",
   "metadata": {
    "id": "AIAxcveHPs0_"
   },
   "source": [
    "**Impute : Categorical Column**"
   ]
  },
  {
   "cell_type": "code",
   "execution_count": 44,
   "metadata": {
    "colab": {
     "base_uri": "https://localhost:8080/"
    },
    "id": "jfA7ounnsI0H",
    "outputId": "d241867a-cd8a-4453-af20-64feddc7e997"
   },
   "outputs": [
    {
     "name": "stderr",
     "output_type": "stream",
     "text": [
      "<ipython-input-44-8b568ecc9b8f>:3: FutureWarning: A value is trying to be set on a copy of a DataFrame or Series through chained assignment using an inplace method.\n",
      "The behavior will change in pandas 3.0. This inplace method will never work because the intermediate object on which we are setting values always behaves as a copy.\n",
      "\n",
      "For example, when doing 'df[col].method(value, inplace=True)', try using 'df.method({col: value}, inplace=True)' or df[col] = df[col].method(value) instead, to perform the operation inplace on the original object.\n",
      "\n",
      "\n",
      "  data[col].fillna(modes, inplace = True)\n"
     ]
    }
   ],
   "source": [
    "for col in ['Ever_Married', 'Graduated', 'Profession', 'Var_1']:\n",
    "    modes = data[col].mode()[0]\n",
    "    data[col].fillna(modes, inplace = True)"
   ]
  },
  {
   "cell_type": "code",
   "execution_count": 45,
   "metadata": {
    "colab": {
     "base_uri": "https://localhost:8080/",
     "height": 363
    },
    "id": "8r1P1WwjwfjB",
    "outputId": "9fda5250-c91a-4154-b7d6-0f7f64622fbf"
   },
   "outputs": [
    {
     "data": {
      "application/vnd.google.colaboratory.intrinsic+json": {
       "summary": "{\n  \"name\": \"missvals\",\n  \"rows\": 10,\n  \"fields\": [\n    {\n      \"column\": \"column_name\",\n      \"properties\": {\n        \"dtype\": \"string\",\n        \"num_unique_values\": 10,\n        \"samples\": [\n          \"Var_1\",\n          \"Ever_Married\",\n          \"Work_Experience\"\n        ],\n        \"semantic_type\": \"\",\n        \"description\": \"\"\n      }\n    },\n    {\n      \"column\": \"total\",\n      \"properties\": {\n        \"dtype\": \"number\",\n        \"std\": 0,\n        \"min\": 0,\n        \"max\": 0,\n        \"num_unique_values\": 1,\n        \"samples\": [\n          0\n        ],\n        \"semantic_type\": \"\",\n        \"description\": \"\"\n      }\n    },\n    {\n      \"column\": \"percentage\",\n      \"properties\": {\n        \"dtype\": \"number\",\n        \"std\": 0.0,\n        \"min\": 0.0,\n        \"max\": 0.0,\n        \"num_unique_values\": 1,\n        \"samples\": [\n          0.0\n        ],\n        \"semantic_type\": \"\",\n        \"description\": \"\"\n      }\n    }\n  ]\n}",
       "type": "dataframe",
       "variable_name": "missvals"
      },
      "text/html": [
       "\n",
       "  <div id=\"df-2cf8f0df-78e9-4b5b-aa02-188d5badc11c\" class=\"colab-df-container\">\n",
       "    <div>\n",
       "<style scoped>\n",
       "    .dataframe tbody tr th:only-of-type {\n",
       "        vertical-align: middle;\n",
       "    }\n",
       "\n",
       "    .dataframe tbody tr th {\n",
       "        vertical-align: top;\n",
       "    }\n",
       "\n",
       "    .dataframe thead th {\n",
       "        text-align: right;\n",
       "    }\n",
       "</style>\n",
       "<table border=\"1\" class=\"dataframe\">\n",
       "  <thead>\n",
       "    <tr style=\"text-align: right;\">\n",
       "      <th></th>\n",
       "      <th>column_name</th>\n",
       "      <th>total</th>\n",
       "      <th>percentage</th>\n",
       "    </tr>\n",
       "  </thead>\n",
       "  <tbody>\n",
       "    <tr>\n",
       "      <th>0</th>\n",
       "      <td>Gender</td>\n",
       "      <td>0</td>\n",
       "      <td>0.0</td>\n",
       "    </tr>\n",
       "    <tr>\n",
       "      <th>1</th>\n",
       "      <td>Ever_Married</td>\n",
       "      <td>0</td>\n",
       "      <td>0.0</td>\n",
       "    </tr>\n",
       "    <tr>\n",
       "      <th>2</th>\n",
       "      <td>Age</td>\n",
       "      <td>0</td>\n",
       "      <td>0.0</td>\n",
       "    </tr>\n",
       "    <tr>\n",
       "      <th>3</th>\n",
       "      <td>Graduated</td>\n",
       "      <td>0</td>\n",
       "      <td>0.0</td>\n",
       "    </tr>\n",
       "    <tr>\n",
       "      <th>4</th>\n",
       "      <td>Profession</td>\n",
       "      <td>0</td>\n",
       "      <td>0.0</td>\n",
       "    </tr>\n",
       "    <tr>\n",
       "      <th>5</th>\n",
       "      <td>Work_Experience</td>\n",
       "      <td>0</td>\n",
       "      <td>0.0</td>\n",
       "    </tr>\n",
       "    <tr>\n",
       "      <th>6</th>\n",
       "      <td>Spending_Score</td>\n",
       "      <td>0</td>\n",
       "      <td>0.0</td>\n",
       "    </tr>\n",
       "    <tr>\n",
       "      <th>7</th>\n",
       "      <td>Family_Size</td>\n",
       "      <td>0</td>\n",
       "      <td>0.0</td>\n",
       "    </tr>\n",
       "    <tr>\n",
       "      <th>8</th>\n",
       "      <td>Var_1</td>\n",
       "      <td>0</td>\n",
       "      <td>0.0</td>\n",
       "    </tr>\n",
       "    <tr>\n",
       "      <th>9</th>\n",
       "      <td>Segmentation</td>\n",
       "      <td>0</td>\n",
       "      <td>0.0</td>\n",
       "    </tr>\n",
       "  </tbody>\n",
       "</table>\n",
       "</div>\n",
       "    <div class=\"colab-df-buttons\">\n",
       "\n",
       "  <div class=\"colab-df-container\">\n",
       "    <button class=\"colab-df-convert\" onclick=\"convertToInteractive('df-2cf8f0df-78e9-4b5b-aa02-188d5badc11c')\"\n",
       "            title=\"Convert this dataframe to an interactive table.\"\n",
       "            style=\"display:none;\">\n",
       "\n",
       "  <svg xmlns=\"http://www.w3.org/2000/svg\" height=\"24px\" viewBox=\"0 -960 960 960\">\n",
       "    <path d=\"M120-120v-720h720v720H120Zm60-500h600v-160H180v160Zm220 220h160v-160H400v160Zm0 220h160v-160H400v160ZM180-400h160v-160H180v160Zm440 0h160v-160H620v160ZM180-180h160v-160H180v160Zm440 0h160v-160H620v160Z\"/>\n",
       "  </svg>\n",
       "    </button>\n",
       "\n",
       "  <style>\n",
       "    .colab-df-container {\n",
       "      display:flex;\n",
       "      gap: 12px;\n",
       "    }\n",
       "\n",
       "    .colab-df-convert {\n",
       "      background-color: #E8F0FE;\n",
       "      border: none;\n",
       "      border-radius: 50%;\n",
       "      cursor: pointer;\n",
       "      display: none;\n",
       "      fill: #1967D2;\n",
       "      height: 32px;\n",
       "      padding: 0 0 0 0;\n",
       "      width: 32px;\n",
       "    }\n",
       "\n",
       "    .colab-df-convert:hover {\n",
       "      background-color: #E2EBFA;\n",
       "      box-shadow: 0px 1px 2px rgba(60, 64, 67, 0.3), 0px 1px 3px 1px rgba(60, 64, 67, 0.15);\n",
       "      fill: #174EA6;\n",
       "    }\n",
       "\n",
       "    .colab-df-buttons div {\n",
       "      margin-bottom: 4px;\n",
       "    }\n",
       "\n",
       "    [theme=dark] .colab-df-convert {\n",
       "      background-color: #3B4455;\n",
       "      fill: #D2E3FC;\n",
       "    }\n",
       "\n",
       "    [theme=dark] .colab-df-convert:hover {\n",
       "      background-color: #434B5C;\n",
       "      box-shadow: 0px 1px 3px 1px rgba(0, 0, 0, 0.15);\n",
       "      filter: drop-shadow(0px 1px 2px rgba(0, 0, 0, 0.3));\n",
       "      fill: #FFFFFF;\n",
       "    }\n",
       "  </style>\n",
       "\n",
       "    <script>\n",
       "      const buttonEl =\n",
       "        document.querySelector('#df-2cf8f0df-78e9-4b5b-aa02-188d5badc11c button.colab-df-convert');\n",
       "      buttonEl.style.display =\n",
       "        google.colab.kernel.accessAllowed ? 'block' : 'none';\n",
       "\n",
       "      async function convertToInteractive(key) {\n",
       "        const element = document.querySelector('#df-2cf8f0df-78e9-4b5b-aa02-188d5badc11c');\n",
       "        const dataTable =\n",
       "          await google.colab.kernel.invokeFunction('convertToInteractive',\n",
       "                                                    [key], {});\n",
       "        if (!dataTable) return;\n",
       "\n",
       "        const docLinkHtml = 'Like what you see? Visit the ' +\n",
       "          '<a target=\"_blank\" href=https://colab.research.google.com/notebooks/data_table.ipynb>data table notebook</a>'\n",
       "          + ' to learn more about interactive tables.';\n",
       "        element.innerHTML = '';\n",
       "        dataTable['output_type'] = 'display_data';\n",
       "        await google.colab.output.renderOutput(dataTable, element);\n",
       "        const docLink = document.createElement('div');\n",
       "        docLink.innerHTML = docLinkHtml;\n",
       "        element.appendChild(docLink);\n",
       "      }\n",
       "    </script>\n",
       "  </div>\n",
       "\n",
       "\n",
       "<div id=\"df-eb53174b-b85c-46a1-a725-5e717c141bbc\">\n",
       "  <button class=\"colab-df-quickchart\" onclick=\"quickchart('df-eb53174b-b85c-46a1-a725-5e717c141bbc')\"\n",
       "            title=\"Suggest charts\"\n",
       "            style=\"display:none;\">\n",
       "\n",
       "<svg xmlns=\"http://www.w3.org/2000/svg\" height=\"24px\"viewBox=\"0 0 24 24\"\n",
       "     width=\"24px\">\n",
       "    <g>\n",
       "        <path d=\"M19 3H5c-1.1 0-2 .9-2 2v14c0 1.1.9 2 2 2h14c1.1 0 2-.9 2-2V5c0-1.1-.9-2-2-2zM9 17H7v-7h2v7zm4 0h-2V7h2v10zm4 0h-2v-4h2v4z\"/>\n",
       "    </g>\n",
       "</svg>\n",
       "  </button>\n",
       "\n",
       "<style>\n",
       "  .colab-df-quickchart {\n",
       "      --bg-color: #E8F0FE;\n",
       "      --fill-color: #1967D2;\n",
       "      --hover-bg-color: #E2EBFA;\n",
       "      --hover-fill-color: #174EA6;\n",
       "      --disabled-fill-color: #AAA;\n",
       "      --disabled-bg-color: #DDD;\n",
       "  }\n",
       "\n",
       "  [theme=dark] .colab-df-quickchart {\n",
       "      --bg-color: #3B4455;\n",
       "      --fill-color: #D2E3FC;\n",
       "      --hover-bg-color: #434B5C;\n",
       "      --hover-fill-color: #FFFFFF;\n",
       "      --disabled-bg-color: #3B4455;\n",
       "      --disabled-fill-color: #666;\n",
       "  }\n",
       "\n",
       "  .colab-df-quickchart {\n",
       "    background-color: var(--bg-color);\n",
       "    border: none;\n",
       "    border-radius: 50%;\n",
       "    cursor: pointer;\n",
       "    display: none;\n",
       "    fill: var(--fill-color);\n",
       "    height: 32px;\n",
       "    padding: 0;\n",
       "    width: 32px;\n",
       "  }\n",
       "\n",
       "  .colab-df-quickchart:hover {\n",
       "    background-color: var(--hover-bg-color);\n",
       "    box-shadow: 0 1px 2px rgba(60, 64, 67, 0.3), 0 1px 3px 1px rgba(60, 64, 67, 0.15);\n",
       "    fill: var(--button-hover-fill-color);\n",
       "  }\n",
       "\n",
       "  .colab-df-quickchart-complete:disabled,\n",
       "  .colab-df-quickchart-complete:disabled:hover {\n",
       "    background-color: var(--disabled-bg-color);\n",
       "    fill: var(--disabled-fill-color);\n",
       "    box-shadow: none;\n",
       "  }\n",
       "\n",
       "  .colab-df-spinner {\n",
       "    border: 2px solid var(--fill-color);\n",
       "    border-color: transparent;\n",
       "    border-bottom-color: var(--fill-color);\n",
       "    animation:\n",
       "      spin 1s steps(1) infinite;\n",
       "  }\n",
       "\n",
       "  @keyframes spin {\n",
       "    0% {\n",
       "      border-color: transparent;\n",
       "      border-bottom-color: var(--fill-color);\n",
       "      border-left-color: var(--fill-color);\n",
       "    }\n",
       "    20% {\n",
       "      border-color: transparent;\n",
       "      border-left-color: var(--fill-color);\n",
       "      border-top-color: var(--fill-color);\n",
       "    }\n",
       "    30% {\n",
       "      border-color: transparent;\n",
       "      border-left-color: var(--fill-color);\n",
       "      border-top-color: var(--fill-color);\n",
       "      border-right-color: var(--fill-color);\n",
       "    }\n",
       "    40% {\n",
       "      border-color: transparent;\n",
       "      border-right-color: var(--fill-color);\n",
       "      border-top-color: var(--fill-color);\n",
       "    }\n",
       "    60% {\n",
       "      border-color: transparent;\n",
       "      border-right-color: var(--fill-color);\n",
       "    }\n",
       "    80% {\n",
       "      border-color: transparent;\n",
       "      border-right-color: var(--fill-color);\n",
       "      border-bottom-color: var(--fill-color);\n",
       "    }\n",
       "    90% {\n",
       "      border-color: transparent;\n",
       "      border-bottom-color: var(--fill-color);\n",
       "    }\n",
       "  }\n",
       "</style>\n",
       "\n",
       "  <script>\n",
       "    async function quickchart(key) {\n",
       "      const quickchartButtonEl =\n",
       "        document.querySelector('#' + key + ' button');\n",
       "      quickchartButtonEl.disabled = true;  // To prevent multiple clicks.\n",
       "      quickchartButtonEl.classList.add('colab-df-spinner');\n",
       "      try {\n",
       "        const charts = await google.colab.kernel.invokeFunction(\n",
       "            'suggestCharts', [key], {});\n",
       "      } catch (error) {\n",
       "        console.error('Error during call to suggestCharts:', error);\n",
       "      }\n",
       "      quickchartButtonEl.classList.remove('colab-df-spinner');\n",
       "      quickchartButtonEl.classList.add('colab-df-quickchart-complete');\n",
       "    }\n",
       "    (() => {\n",
       "      let quickchartButtonEl =\n",
       "        document.querySelector('#df-eb53174b-b85c-46a1-a725-5e717c141bbc button');\n",
       "      quickchartButtonEl.style.display =\n",
       "        google.colab.kernel.accessAllowed ? 'block' : 'none';\n",
       "    })();\n",
       "  </script>\n",
       "</div>\n",
       "\n",
       "  <div id=\"id_30fd1dca-0d68-4ef4-a872-2cf664bd36b7\">\n",
       "    <style>\n",
       "      .colab-df-generate {\n",
       "        background-color: #E8F0FE;\n",
       "        border: none;\n",
       "        border-radius: 50%;\n",
       "        cursor: pointer;\n",
       "        display: none;\n",
       "        fill: #1967D2;\n",
       "        height: 32px;\n",
       "        padding: 0 0 0 0;\n",
       "        width: 32px;\n",
       "      }\n",
       "\n",
       "      .colab-df-generate:hover {\n",
       "        background-color: #E2EBFA;\n",
       "        box-shadow: 0px 1px 2px rgba(60, 64, 67, 0.3), 0px 1px 3px 1px rgba(60, 64, 67, 0.15);\n",
       "        fill: #174EA6;\n",
       "      }\n",
       "\n",
       "      [theme=dark] .colab-df-generate {\n",
       "        background-color: #3B4455;\n",
       "        fill: #D2E3FC;\n",
       "      }\n",
       "\n",
       "      [theme=dark] .colab-df-generate:hover {\n",
       "        background-color: #434B5C;\n",
       "        box-shadow: 0px 1px 3px 1px rgba(0, 0, 0, 0.15);\n",
       "        filter: drop-shadow(0px 1px 2px rgba(0, 0, 0, 0.3));\n",
       "        fill: #FFFFFF;\n",
       "      }\n",
       "    </style>\n",
       "    <button class=\"colab-df-generate\" onclick=\"generateWithVariable('missvals')\"\n",
       "            title=\"Generate code using this dataframe.\"\n",
       "            style=\"display:none;\">\n",
       "\n",
       "  <svg xmlns=\"http://www.w3.org/2000/svg\" height=\"24px\"viewBox=\"0 0 24 24\"\n",
       "       width=\"24px\">\n",
       "    <path d=\"M7,19H8.4L18.45,9,17,7.55,7,17.6ZM5,21V16.75L18.45,3.32a2,2,0,0,1,2.83,0l1.4,1.43a1.91,1.91,0,0,1,.58,1.4,1.91,1.91,0,0,1-.58,1.4L9.25,21ZM18.45,9,17,7.55Zm-12,3A5.31,5.31,0,0,0,4.9,8.1,5.31,5.31,0,0,0,1,6.5,5.31,5.31,0,0,0,4.9,4.9,5.31,5.31,0,0,0,6.5,1,5.31,5.31,0,0,0,8.1,4.9,5.31,5.31,0,0,0,12,6.5,5.46,5.46,0,0,0,6.5,12Z\"/>\n",
       "  </svg>\n",
       "    </button>\n",
       "    <script>\n",
       "      (() => {\n",
       "      const buttonEl =\n",
       "        document.querySelector('#id_30fd1dca-0d68-4ef4-a872-2cf664bd36b7 button.colab-df-generate');\n",
       "      buttonEl.style.display =\n",
       "        google.colab.kernel.accessAllowed ? 'block' : 'none';\n",
       "\n",
       "      buttonEl.onclick = () => {\n",
       "        google.colab.notebook.generateWithVariable('missvals');\n",
       "      }\n",
       "      })();\n",
       "    </script>\n",
       "  </div>\n",
       "\n",
       "    </div>\n",
       "  </div>\n"
      ],
      "text/plain": [
       "       column_name  total  percentage\n",
       "0           Gender      0         0.0\n",
       "1     Ever_Married      0         0.0\n",
       "2              Age      0         0.0\n",
       "3        Graduated      0         0.0\n",
       "4       Profession      0         0.0\n",
       "5  Work_Experience      0         0.0\n",
       "6   Spending_Score      0         0.0\n",
       "7      Family_Size      0         0.0\n",
       "8            Var_1      0         0.0\n",
       "9     Segmentation      0         0.0"
      ]
     },
     "execution_count": 45,
     "metadata": {},
     "output_type": "execute_result"
    }
   ],
   "source": [
    "missvals = pd.DataFrame({\n",
    "    'column_name': data.\\\n",
    "                    columns.\\\n",
    "                    tolist(),\n",
    "    'total': data.\\\n",
    "              isnull().\\\n",
    "              sum().\\\n",
    "              tolist(),\n",
    "    'percentage': ((data.isnull().sum()) * 100/len(data)).\\\n",
    "                    tolist(),\n",
    "})\n",
    "\n",
    "missvals"
   ]
  },
  {
   "cell_type": "markdown",
   "metadata": {
    "id": "6JJAWWlnstw2"
   },
   "source": [
    "Here, we have already imputed the missing values."
   ]
  },
  {
   "cell_type": "markdown",
   "metadata": {
    "id": "-32DVP4qtjqp",
    "jp-MarkdownHeadingCollapsed": true
   },
   "source": [
    "#### **Check Distributions**"
   ]
  },
  {
   "cell_type": "markdown",
   "metadata": {
    "id": "ryQl66GetfcO"
   },
   "source": [
    "- ***plt.figure(figsize)*** creates a new figure for plotting.\n",
    "- ***plt.subplot(row, col, index)*** creates a grid of subplots within a figure.\n",
    "- ***sns.histplot(x)*** creates a histogram that visualizes the distribution of a data.\n",
    "- ***sns.boxplot(x)*** is used to create a boxplot to visualize the distribution of a dataset and display the outliers from a data.\n",
    "- ***plt.title()*** displays the plot's title.\n",
    "- ***plt.show()*** displays the figures that was initialized before."
   ]
  },
  {
   "cell_type": "code",
   "execution_count": 46,
   "metadata": {
    "colab": {
     "base_uri": "https://localhost:8080/",
     "height": 1000
    },
    "id": "M_D5yrYQto8K",
    "outputId": "89e820ff-6b36-473f-f6b1-0ee204a99fe5"
   },
   "outputs": [
    {
     "data": {
      "image/png": "[encoded data removed]",
      "text/plain": [
       "<Figure size 1500x500 with 2 Axes>"
      ]
     },
     "metadata": {},
     "output_type": "display_data"
    },
    {
     "data": {
      "image/png": "[encoded data removed]",
      "text/plain": [
       "<Figure size 1500x500 with 2 Axes>"
      ]
     },
     "metadata": {},
     "output_type": "display_data"
    },
    {
     "data": {
      "image/png": "[encoded data removed]",
      "text/plain": [
       "<Figure size 1500x500 with 2 Axes>"
      ]
     },
     "metadata": {},
     "output_type": "display_data"
    }
   ],
   "source": [
    "def check_dist(data, cols):\n",
    "    for col in cols:\n",
    "        plt.figure(figsize = (15, 5))\n",
    "\n",
    "        plt.subplot(1, 2, 1)\n",
    "        sns.histplot(data[col],\n",
    "                     bins = 30)\n",
    "        plt.title(f\"Histogram of {col}\")\n",
    "\n",
    "        plt.subplot(1, 2, 2)\n",
    "        sns.boxplot(y = data[col])\n",
    "        plt.title(f\"Boxplot of {col}\")\n",
    "\n",
    "        plt.show()\n",
    "\n",
    "check_dist(data, numcols)"
   ]
  },
  {
   "cell_type": "markdown",
   "metadata": {
    "id": "0SF6QQkCty-r"
   },
   "source": [
    "The plots above shows the distribution of the numerical variables. And though there are some outliers, I personally think that it won't be necessary to handle any outliers because those outliers does make sense in real life implementations."
   ]
  },
  {
   "cell_type": "markdown",
   "metadata": {
    "id": "ql6vPXnkNQ-P"
   },
   "source": [
    "#### **Check Variables Correlation with Y Variable**"
   ]
  },
  {
   "cell_type": "markdown",
   "metadata": {
    "id": "wrjVbs6INXaA"
   },
   "source": [
    "- ***plt.figure(figsize)*** creates a new figure for plotting.\n",
    "- ***sns.boxplot(x, y, order)*** is used to create a boxplot to visualize the distribution of a dataset based on their categories and orders.\n",
    "- ***data.groupby(col)[target].value_counts(normalize = True).unstack(target).plot.bar(stacked = True)*** is used to create a barplot to visualize the proportion of each column based on their categories.  \n",
    "- ***plt.title()*** displays the plot's title.\n",
    "- ***plt.xticks()*** displays the plot's x-axis title.  \n",
    "- ***plt.show()*** displays the figures that was initialized before."
   ]
  },
  {
   "cell_type": "code",
   "execution_count": 47,
   "metadata": {
    "colab": {
     "base_uri": "https://localhost:8080/",
     "height": 1000
    },
    "id": "toF0SJx2NdxL",
    "outputId": "3e388df0-adb0-4791-f26a-b8c838f554e1"
   },
   "outputs": [
    {
     "data": {
      "image/png": "[encoded data removed]",
      "text/plain": [
       "<Figure size 1000x500 with 1 Axes>"
      ]
     },
     "metadata": {},
     "output_type": "display_data"
    },
    {
     "data": {
      "image/png": "[encoded data removed]",
      "text/plain": [
       "<Figure size 1000x500 with 1 Axes>"
      ]
     },
     "metadata": {},
     "output_type": "display_data"
    },
    {
     "data": {
      "image/png": "[encoded data removed]",
      "text/plain": [
       "<Figure size 1000x500 with 1 Axes>"
      ]
     },
     "metadata": {},
     "output_type": "display_data"
    }
   ],
   "source": [
    "def check_numcols_with_Y(data, cols, target, target_order):\n",
    "    for col in cols:\n",
    "        plt.figure(figsize = (10, 5))\n",
    "\n",
    "        sns.boxplot(x = data[target],\n",
    "                    y = data[col],\n",
    "                    order = target_order)\n",
    "        plt.title(f\"{col} on {target}\")\n",
    "\n",
    "        plt.show()\n",
    "\n",
    "check_numcols_with_Y(data,\n",
    "                     numcols,\n",
    "                     'Segmentation',\n",
    "                     target_order = ['A', 'B', 'C', 'D'])"
   ]
  },
  {
   "cell_type": "markdown",
   "metadata": {
    "id": "__8Zo6Y2QUiB"
   },
   "source": [
    "Based on the plot displayed above, all of the numerical columns (*Age*, *Work_Experience*, and *Family_Size*) don't really affect the customer segmentation, since they variated in the similar ranges."
   ]
  },
  {
   "cell_type": "code",
   "execution_count": 48,
   "metadata": {
    "colab": {
     "base_uri": "https://localhost:8080/",
     "height": 1000
    },
    "id": "b7bcuDobQB0h",
    "outputId": "006e61f9-5a16-42a3-ff29-d59d2558a0ea"
   },
   "outputs": [
    {
     "data": {
      "text/plain": [
       "<Figure size 1000x500 with 0 Axes>"
      ]
     },
     "metadata": {},
     "output_type": "display_data"
    },
    {
     "data": {
      "image/png": "[encoded data removed]",
      "text/plain": [
       "<Figure size 640x480 with 1 Axes>"
      ]
     },
     "metadata": {},
     "output_type": "display_data"
    },
    {
     "data": {
      "text/plain": [
       "<Figure size 1000x500 with 0 Axes>"
      ]
     },
     "metadata": {},
     "output_type": "display_data"
    },
    {
     "data": {
      "image/png": "[encoded data removed]",
      "text/plain": [
       "<Figure size 640x480 with 1 Axes>"
      ]
     },
     "metadata": {},
     "output_type": "display_data"
    },
    {
     "data": {
      "text/plain": [
       "<Figure size 1000x500 with 0 Axes>"
      ]
     },
     "metadata": {},
     "output_type": "display_data"
    },
    {
     "data": {
      "image/png": "[encoded data removed]",
      "text/plain": [
       "<Figure size 640x480 with 1 Axes>"
      ]
     },
     "metadata": {},
     "output_type": "display_data"
    },
    {
     "data": {
      "text/plain": [
       "<Figure size 1000x500 with 0 Axes>"
      ]
     },
     "metadata": {},
     "output_type": "display_data"
    },
    {
     "data": {
      "image/png": "[encoded data removed]",
      "text/plain": [
       "<Figure size 640x480 with 1 Axes>"
      ]
     },
     "metadata": {},
     "output_type": "display_data"
    },
    {
     "data": {
      "text/plain": [
       "<Figure size 1000x500 with 0 Axes>"
      ]
     },
     "metadata": {},
     "output_type": "display_data"
    },
    {
     "data": {
      "image/png": "[encoded data removed]",
      "text/plain": [
       "<Figure size 640x480 with 1 Axes>"
      ]
     },
     "metadata": {},
     "output_type": "display_data"
    },
    {
     "data": {
      "text/plain": [
       "<Figure size 1000x500 with 0 Axes>"
      ]
     },
     "metadata": {},
     "output_type": "display_data"
    },
    {
     "data": {
      "image/png": "[encoded data removed]",
      "text/plain": [
       "<Figure size 640x480 with 1 Axes>"
      ]
     },
     "metadata": {},
     "output_type": "display_data"
    }
   ],
   "source": [
    "def check_catcols_with_Y(data, cols, target):\n",
    "    for col in cols:\n",
    "        plt.figure(figsize = (10, 5))\n",
    "\n",
    "        data.groupby(col)[target].\\\n",
    "          value_counts(normalize = True).\\\n",
    "          unstack(target).\\\n",
    "          plot.\\\n",
    "          bar(stacked=True)\n",
    "        plt.title(f\"{col} on {target}\")\n",
    "        plt.xticks(rotation = 0)\n",
    "\n",
    "        plt.show()\n",
    "\n",
    "checkcatcols = ['Gender', 'Ever_Married', 'Graduated', 'Profession', 'Spending_Score', 'Var_1']\n",
    "check_catcols_with_Y(data,\n",
    "                     checkcatcols,\n",
    "                     'Segmentation')"
   ]
  },
  {
   "cell_type": "markdown",
   "metadata": {
    "id": "bWcrWUeDQqp4"
   },
   "source": [
    "Based on the plots above, *Gender* and *Var_1* don't really affect the customer segmentation. However, the other categorical columns does have some or even big influence towards the customer segmentation."
   ]
  },
  {
   "cell_type": "markdown",
   "metadata": {
    "id": "r45Dg3UBw_h3"
   },
   "source": [
    "#### **Encoding**"
   ]
  },
  {
   "cell_type": "markdown",
   "metadata": {
    "id": "mMnAI7ZhxBWN"
   },
   "source": [
    "- ***data[col].value_counts()*** returns the count of occurrences of unique values in the specified column.\n",
    "- ***LabelEncoder()*** is used to call the LabelEncoder function.  \n",
    "- ***OneHotEncoder()*** is used to call the OneHotEncoder function.  \n",
    "- ***encoder.fit_transform(ytrain)*** is used to fit and transform the encoder to y-variable from training set.  \n",
    "- ***encoder.transform(ytrain)*** is used to transform the y-variable from testing set.  \n",
    "- ***data.drop(col)*** removes the specified columns from a dataframe."
   ]
  },
  {
   "cell_type": "code",
   "execution_count": 49,
   "metadata": {
    "colab": {
     "base_uri": "https://localhost:8080/"
    },
    "id": "p0AtqBCgxdnF",
    "outputId": "0f1f0cec-e985-4a08-bc86-514e5aa1fc6f"
   },
   "outputs": [
    {
     "name": "stdout",
     "output_type": "stream",
     "text": [
      "Gender\n",
      "Male      4886\n",
      "Female    4127\n",
      "Name: count, dtype: int64 \n",
      "\n",
      "Ever_Married\n",
      "Yes    5376\n",
      "No     3637\n",
      "Name: count, dtype: int64 \n",
      "\n",
      "Graduated\n",
      "Yes    5705\n",
      "No     3308\n",
      "Name: count, dtype: int64 \n",
      "\n",
      "Profession\n",
      "Artist           2959\n",
      "Healthcare       1359\n",
      "Entertainment    1107\n",
      "Doctor            836\n",
      "Engineer          824\n",
      "Lawyer            659\n",
      "Executive         649\n",
      "Marketing         349\n",
      "Homemaker         271\n",
      "Name: count, dtype: int64 \n",
      "\n",
      "Spending_Score\n",
      "Low        5526\n",
      "Average    2185\n",
      "High       1302\n",
      "Name: count, dtype: int64 \n",
      "\n",
      "Var_1\n",
      "Cat_6    5825\n",
      "Cat_4    1274\n",
      "Cat_3     926\n",
      "Cat_2     503\n",
      "Cat_7     234\n",
      "Cat_1     143\n",
      "Cat_5     108\n",
      "Name: count, dtype: int64 \n",
      "\n",
      "Segmentation\n",
      "A    2443\n",
      "D    2442\n",
      "B    2091\n",
      "C    2037\n",
      "Name: count, dtype: int64 \n",
      "\n"
     ]
    }
   ],
   "source": [
    "for i in catcols:\n",
    "    print(f\"{data[i].value_counts()} \\n\")"
   ]
  },
  {
   "cell_type": "markdown",
   "metadata": {
    "id": "D7G1DOb5xqm0"
   },
   "source": [
    "Based on the output above, we are going to transform *Gender*, *Ever_Married*, *Graduated*, and *Segmentation* with **LabelEncoder**; *Profession*, *Spending_Score*, and *Var_1* with **OneHotEncoder**."
   ]
  },
  {
   "cell_type": "code",
   "execution_count": 50,
   "metadata": {
    "colab": {
     "base_uri": "https://localhost:8080/"
    },
    "id": "DD07iVKayEik",
    "outputId": "c99a5545-b110-439b-fa64-b424d8725ab0"
   },
   "outputs": [
    {
     "name": "stderr",
     "output_type": "stream",
     "text": [
      "/usr/local/lib/python3.10/dist-packages/sklearn/preprocessing/_label.py:114: DataConversionWarning: A column-vector y was passed when a 1d array was expected. Please change the shape of y to (n_samples, ), for example using ravel().\n",
      "  y = column_or_1d(y, warn=True)\n",
      "/usr/local/lib/python3.10/dist-packages/sklearn/preprocessing/_label.py:114: DataConversionWarning: A column-vector y was passed when a 1d array was expected. Please change the shape of y to (n_samples, ), for example using ravel().\n",
      "  y = column_or_1d(y, warn=True)\n",
      "/usr/local/lib/python3.10/dist-packages/sklearn/preprocessing/_label.py:114: DataConversionWarning: A column-vector y was passed when a 1d array was expected. Please change the shape of y to (n_samples, ), for example using ravel().\n",
      "  y = column_or_1d(y, warn=True)\n",
      "/usr/local/lib/python3.10/dist-packages/sklearn/preprocessing/_label.py:114: DataConversionWarning: A column-vector y was passed when a 1d array was expected. Please change the shape of y to (n_samples, ), for example using ravel().\n",
      "  y = column_or_1d(y, warn=True)\n"
     ]
    }
   ],
   "source": [
    "label = LabelEncoder()\n",
    "for i in ['Gender', 'Ever_Married', 'Graduated', 'Segmentation']:\n",
    "  data[i] = label.\\\n",
    "              fit_transform(data[[i]])"
   ]
  },
  {
   "cell_type": "code",
   "execution_count": 51,
   "metadata": {
    "id": "JOpYPaI5yVU5"
   },
   "outputs": [],
   "source": [
    "ohe = OneHotEncoder(sparse_output = False).\\\n",
    "        set_output(transform = \"pandas\")\n",
    "data = pd.\\\n",
    "        concat([data, ohe.\\\n",
    "                        fit_transform(data[['Profession', 'Spending_Score', 'Var_1']]).\\\n",
    "                        astype('int')],\n",
    "               axis = 1)\n",
    "data = data.\\\n",
    "        drop(columns = ['Profession', 'Spending_Score', 'Var_1'])"
   ]
  },
  {
   "cell_type": "code",
   "execution_count": 52,
   "metadata": {
    "colab": {
     "base_uri": "https://localhost:8080/"
    },
    "id": "wt6JlRNcySY8",
    "outputId": "9b1563b3-d5cc-4359-9d7b-7fe2bb2d8503"
   },
   "outputs": [
    {
     "name": "stdout",
     "output_type": "stream",
     "text": [
      "Gender\n",
      "1    4886\n",
      "0    4127\n",
      "Name: count, dtype: int64 \n",
      "\n",
      "Ever_Married\n",
      "1    5376\n",
      "0    3637\n",
      "Name: count, dtype: int64 \n",
      "\n",
      "Age\n",
      "35    276\n",
      "42    271\n",
      "43    267\n",
      "37    261\n",
      "40    260\n",
      "     ... \n",
      "87     31\n",
      "76     30\n",
      "78     29\n",
      "80     26\n",
      "85     26\n",
      "Name: count, Length: 67, dtype: int64 \n",
      "\n",
      "Graduated\n",
      "1    5705\n",
      "0    3308\n",
      "Name: count, dtype: int64 \n",
      "\n",
      "Work_Experience\n",
      "1.0     2849\n",
      "0.0     2845\n",
      "8.0      600\n",
      "9.0      592\n",
      "2.0      368\n",
      "4.0      336\n",
      "3.0      332\n",
      "5.0      266\n",
      "6.0      263\n",
      "7.0      252\n",
      "14.0      66\n",
      "10.0      64\n",
      "11.0      63\n",
      "12.0      60\n",
      "13.0      57\n",
      "Name: count, dtype: int64 \n",
      "\n",
      "Family_Size\n",
      "2.0    3043\n",
      "1.0    1674\n",
      "3.0    1641\n",
      "4.0    1473\n",
      "5.0     704\n",
      "6.0     254\n",
      "7.0     111\n",
      "8.0      57\n",
      "9.0      56\n",
      "Name: count, dtype: int64 \n",
      "\n",
      "Segmentation\n",
      "0    2443\n",
      "3    2442\n",
      "1    2091\n",
      "2    2037\n",
      "Name: count, dtype: int64 \n",
      "\n",
      "Profession_Artist\n",
      "0    6054\n",
      "1    2959\n",
      "Name: count, dtype: int64 \n",
      "\n",
      "Profession_Doctor\n",
      "0    8177\n",
      "1     836\n",
      "Name: count, dtype: int64 \n",
      "\n",
      "Profession_Engineer\n",
      "0    8189\n",
      "1     824\n",
      "Name: count, dtype: int64 \n",
      "\n",
      "Profession_Entertainment\n",
      "0    7906\n",
      "1    1107\n",
      "Name: count, dtype: int64 \n",
      "\n",
      "Profession_Executive\n",
      "0    8364\n",
      "1     649\n",
      "Name: count, dtype: int64 \n",
      "\n",
      "Profession_Healthcare\n",
      "0    7654\n",
      "1    1359\n",
      "Name: count, dtype: int64 \n",
      "\n",
      "Profession_Homemaker\n",
      "0    8742\n",
      "1     271\n",
      "Name: count, dtype: int64 \n",
      "\n",
      "Profession_Lawyer\n",
      "0    8354\n",
      "1     659\n",
      "Name: count, dtype: int64 \n",
      "\n",
      "Profession_Marketing\n",
      "0    8664\n",
      "1     349\n",
      "Name: count, dtype: int64 \n",
      "\n",
      "Spending_Score_Average\n",
      "0    6828\n",
      "1    2185\n",
      "Name: count, dtype: int64 \n",
      "\n",
      "Spending_Score_High\n",
      "0    7711\n",
      "1    1302\n",
      "Name: count, dtype: int64 \n",
      "\n",
      "Spending_Score_Low\n",
      "1    5526\n",
      "0    3487\n",
      "Name: count, dtype: int64 \n",
      "\n",
      "Var_1_Cat_1\n",
      "0    8870\n",
      "1     143\n",
      "Name: count, dtype: int64 \n",
      "\n",
      "Var_1_Cat_2\n",
      "0    8510\n",
      "1     503\n",
      "Name: count, dtype: int64 \n",
      "\n",
      "Var_1_Cat_3\n",
      "0    8087\n",
      "1     926\n",
      "Name: count, dtype: int64 \n",
      "\n",
      "Var_1_Cat_4\n",
      "0    7739\n",
      "1    1274\n",
      "Name: count, dtype: int64 \n",
      "\n",
      "Var_1_Cat_5\n",
      "0    8905\n",
      "1     108\n",
      "Name: count, dtype: int64 \n",
      "\n",
      "Var_1_Cat_6\n",
      "1    5825\n",
      "0    3188\n",
      "Name: count, dtype: int64 \n",
      "\n",
      "Var_1_Cat_7\n",
      "0    8779\n",
      "1     234\n",
      "Name: count, dtype: int64 \n",
      "\n"
     ]
    }
   ],
   "source": [
    "for i in data.columns:\n",
    "    print(f\"{data[i].value_counts()} \\n\")"
   ]
  },
  {
   "cell_type": "markdown",
   "metadata": {
    "id": "bMENRgWSQ-yb"
   },
   "source": [
    "Here, we have encoded all of our variables to numerical to ease the modelling process."
   ]
  },
  {
   "cell_type": "markdown",
   "metadata": {
    "id": "VKz3uQxDDrvv",
    "jp-MarkdownHeadingCollapsed": true
   },
   "source": [
    "### **Data Splitting**"
   ]
  },
  {
   "cell_type": "markdown",
   "metadata": {
    "id": "5Na33LN7Dwqe"
   },
   "source": [
    "- ***train_test_split(x, y, test_size, random_state)*** is used to split data into train sets and test sets with a specified test size and random state."
   ]
  },
  {
   "cell_type": "code",
   "execution_count": 53,
   "metadata": {
    "id": "3byoJ0x6DxhC"
   },
   "outputs": [],
   "source": [
    "x = data[data.columns.drop(['Segmentation'])]\n",
    "y = data['Segmentation']\n",
    "xtrains, xtests, ytrains, ytests = train_test_split(x,\n",
    "                                                    y,\n",
    "                                                    test_size = 0.2,\n",
    "                                                    random_state = 7)"
   ]
  },
  {
   "cell_type": "markdown",
   "metadata": {
    "id": "vOXFUgqdRXTK",
    "jp-MarkdownHeadingCollapsed": true
   },
   "source": [
    "### **Scaling**"
   ]
  },
  {
   "cell_type": "markdown",
   "metadata": {
    "id": "wN5PUaNzR1dA"
   },
   "source": [
    "- ***RobustScaler()*** is used to call the RobustScaler function.  \n",
    "- ***scaler.fit_transform(ytrain)*** is used to fit and transform the scaler to y-variable from training set.  \n",
    "- ***scaler.transform(ytrain)*** is used to transform the y-variable from testing set.  "
   ]
  },
  {
   "cell_type": "code",
   "execution_count": 54,
   "metadata": {
    "id": "lcamCa4iRXA0"
   },
   "outputs": [],
   "source": [
    "for i in numcols :\n",
    "    scale = RobustScaler()\n",
    "    xtrains[i] = scale.fit_transform(xtrains[[i]])\n",
    "    xtests[i] = scale.transform(xtests[[i]])"
   ]
  },
  {
   "cell_type": "markdown",
   "metadata": {
    "id": "YbKbzT0jVTHH"
   },
   "source": [
    "In the code above, we use **RobustScaler** because the numerical columns has some outliers, so **RobustScaler** is the best scaler to use."
   ]
  },
  {
   "cell_type": "markdown",
   "metadata": {
    "id": "lamwRuYcFWXo"
   },
   "source": [
    "### **Modelling**"
   ]
  },
  {
   "cell_type": "markdown",
   "metadata": {
    "id": "gRTky9ZLFZqA"
   },
   "source": [
    "- ***RandomForestClassifier(n_estimators, max_depth, min_samples_split, criterion, random_state)*** is used to initialize a Random Forest Classifier mmodel with the specified hyperparameters.  \n",
    "- ***XGBClassifier(n_estimators, learning_rate, max_depth, eval_metric)*** is used to generate the XGBoost Classifier model with the specified hyperparameters.  \n",
    "- ***model.fit(xtrain, ytrain)*** is used to fit the model by learning the patterns from the training data.  \n",
    "- ***model.predict(xtest)*** is used to generate the prediction on the testing data.  \n",
    "- ***model.predict_proba(xtest)[:, 1]*** is used to generate the probabilities for each sample."
   ]
  },
  {
   "cell_type": "markdown",
   "metadata": {
    "id": "qO-JliTIHALR"
   },
   "source": [
    "**Random Forest**"
   ]
  },
  {
   "cell_type": "code",
   "execution_count": 55,
   "metadata": {
    "id": "mSaqB3QOFtV8"
   },
   "outputs": [],
   "source": [
    "ranfor_model = RandomForestClassifier(n_estimators = 3,\n",
    "                                      max_depth = 3,\n",
    "                                      min_samples_split = 3,\n",
    "                                      criterion = \"gini\",\n",
    "                                      random_state = 7)\n",
    "ranfor_model.fit(xtrains,\n",
    "                 ytrains)\n",
    "\n",
    "ypred_ranfor = ranfor_model.predict(xtests)\n",
    "yprob_ranfor = ranfor_model.predict_proba(xtests)[:, 1]"
   ]
  },
  {
   "cell_type": "markdown",
   "metadata": {
    "id": "F8invU9dF1xT"
   },
   "source": [
    "**XGBoost**"
   ]
  },
  {
   "cell_type": "code",
   "execution_count": 56,
   "metadata": {
    "id": "wFxQQunnHPjn"
   },
   "outputs": [],
   "source": [
    "xgb_model = XGBClassifier(n_estimators = 100,\n",
    "                          learning_rate = 0.3,\n",
    "                          max_depth = 5,\n",
    "                          eval_metric = \"logloss\")\n",
    "xgb_model.fit(xtrains,\n",
    "              ytrains)\n",
    "\n",
    "ypred_xgb = xgb_model.predict(xtests)\n",
    "yprob_xgb = xgb_model.predict_proba(xtests)[:, 1]"
   ]
  },
  {
   "cell_type": "markdown",
   "metadata": {
    "id": "JVfueWY6Hio2",
    "jp-MarkdownHeadingCollapsed": true
   },
   "source": [
    "### **Evaluation**"
   ]
  },
  {
   "cell_type": "markdown",
   "metadata": {
    "id": "DTpIvvTnHlxH"
   },
   "source": [
    "- ***classification_report(ytest, ypred)*** is used to generate the classification report of the model's prediction, returning the precision, recall, f1-score, and support score, along with the accuracy and average scores.  \n",
    "- ***confusion_matrix(ytest, ypred)*** is used to generate the confusion matrix of the model's prediction, returning the true positive, true negative, false positive, and false negative values.  \n",
    "- ***ConfusionMatrixDisplay(confusion_matrix, display_labels)*** is used to display the confusion matrix visually.\n",
    "- ***confMatPlot.plot()*** is used to display the confusion matrix plot."
   ]
  },
  {
   "cell_type": "markdown",
   "metadata": {
    "id": "d138i_Y0HqZ0"
   },
   "source": [
    "**Classification Report : Random Forest**"
   ]
  },
  {
   "cell_type": "code",
   "execution_count": 57,
   "metadata": {
    "colab": {
     "base_uri": "https://localhost:8080/"
    },
    "id": "0PhWTjHdHtRe",
    "outputId": "67e4c731-9029-479b-ba12-02ca2846808d"
   },
   "outputs": [
    {
     "name": "stdout",
     "output_type": "stream",
     "text": [
      "              precision    recall  f1-score   support\n",
      "\n",
      "           0       0.44      0.27      0.33       496\n",
      "           1       0.36      0.21      0.26       406\n",
      "           2       0.42      0.51      0.46       395\n",
      "           3       0.47      0.72      0.57       506\n",
      "\n",
      "    accuracy                           0.44      1803\n",
      "   macro avg       0.42      0.43      0.41      1803\n",
      "weighted avg       0.42      0.44      0.41      1803\n",
      "\n"
     ]
    }
   ],
   "source": [
    "print(classification_report(ytests,\n",
    "                            y_pred = ypred_ranfor))"
   ]
  },
  {
   "cell_type": "markdown",
   "metadata": {
    "id": "cP9YxLIIRIyO"
   },
   "source": [
    "Based on the classification report above, the overall accuracy score of the Random Forest model is 44%, supported by the precision score (42%), recall score (43%), and f1-score (41%), indicating that this Random Forest model is really bad at predicting customer segmentation.  \n",
    "The precision score of the model's prediction shows that 42% of the predicted positive values are truly positive, while the recall score shows that 43% of the positive values are actually predicted as positives. As a result, the F1-score shows the balanced calculation of the precision and recall scores, showing that the model's performance is very bad (41%)."
   ]
  },
  {
   "cell_type": "markdown",
   "metadata": {
    "id": "uUvy51_bIKeB"
   },
   "source": [
    "**Classification Report : XGBoost**"
   ]
  },
  {
   "cell_type": "code",
   "execution_count": 58,
   "metadata": {
    "colab": {
     "base_uri": "https://localhost:8080/"
    },
    "id": "MpXhfnrPIMkQ",
    "outputId": "970e2249-edca-4fc4-c086-6a3c0591baf1"
   },
   "outputs": [
    {
     "name": "stdout",
     "output_type": "stream",
     "text": [
      "              precision    recall  f1-score   support\n",
      "\n",
      "           0       0.43      0.44      0.43       496\n",
      "           1       0.33      0.27      0.29       406\n",
      "           2       0.45      0.50      0.48       395\n",
      "           3       0.56      0.58      0.57       506\n",
      "\n",
      "    accuracy                           0.45      1803\n",
      "   macro avg       0.44      0.45      0.44      1803\n",
      "weighted avg       0.45      0.45      0.45      1803\n",
      "\n"
     ]
    }
   ],
   "source": [
    "print(classification_report(ytests,\n",
    "                            y_pred = ypred_xgb))"
   ]
  },
  {
   "cell_type": "markdown",
   "metadata": {
    "id": "i6TTQz72Reo_"
   },
   "source": [
    "Based on the classification report above, the overall accuracy score of the XGBoost model is 45%, also supported by the precision score (44%), recall score (45%), and f1-score (44%), indicates that this model's performance is slightly better than the Random Forest one.    \n",
    "The precision score of the model's prediction shows that 44% of the predicted positive values are truly positive, while the recall score shows that 45% of the positive values are actually predicted as positives. As a result, the F1-score shows the balanced calculation of the precision and recall scores, showing that the model's performance is better than the Random Forest one, but not much better, since its scores are only 1-2% higher (45%)."
   ]
  },
  {
   "cell_type": "markdown",
   "metadata": {
    "id": "IfQBwsOhIhq_"
   },
   "source": [
    "**Confusion Matrix : Random Forest**"
   ]
  },
  {
   "cell_type": "code",
   "execution_count": 59,
   "metadata": {
    "colab": {
     "base_uri": "https://localhost:8080/",
     "height": 540
    },
    "id": "WzsL_t4XIogP",
    "outputId": "f06f54ed-1a57-4329-e12e-11ae414afa3c"
   },
   "outputs": [
    {
     "name": "stdout",
     "output_type": "stream",
     "text": [
      "[[134  54  98 210]\n",
      " [ 63  85 134 124]\n",
      " [ 35  76 203  81]\n",
      " [ 76  21  44 365]]\n"
     ]
    },
    {
     "data": {
      "text/plain": [
       "<sklearn.metrics._plot.confusion_matrix.ConfusionMatrixDisplay at 0x7eefab9daa40>"
      ]
     },
     "execution_count": 59,
     "metadata": {},
     "output_type": "execute_result"
    },
    {
     "data": {
      "image/png": "[encoded data removed]",
      "text/plain": [
       "<Figure size 640x480 with 2 Axes>"
      ]
     },
     "metadata": {},
     "output_type": "display_data"
    }
   ],
   "source": [
    "ranforMatrix = confusion_matrix(ytests,\n",
    "                                ypred_ranfor,\n",
    "                                labels = [0, 1, 2, 3])\n",
    "\n",
    "ranforMatrixPlot = ConfusionMatrixDisplay(confusion_matrix = ranforMatrix,\n",
    "                                          display_labels = ranfor_model.classes_)\n",
    "\n",
    "print(ranforMatrix)\n",
    "ranforMatrixPlot.plot()"
   ]
  },
  {
   "cell_type": "markdown",
   "metadata": {
    "id": "h65WwjnKRxFX"
   },
   "source": [
    "The confusion matrix provided above shows that the model's predictions are rather gambled than really predict the result, because the total predictions of true values and false values are balanced."
   ]
  },
  {
   "cell_type": "markdown",
   "metadata": {
    "id": "lxExIvfEJbQ3"
   },
   "source": [
    "**Confusion Matrix : XGBoost**"
   ]
  },
  {
   "cell_type": "code",
   "execution_count": 60,
   "metadata": {
    "colab": {
     "base_uri": "https://localhost:8080/",
     "height": 540
    },
    "id": "Yhr-zHjhJdAY",
    "outputId": "3d62f34b-9ef2-42d6-a9f0-b0700f7d89d8"
   },
   "outputs": [
    {
     "name": "stdout",
     "output_type": "stream",
     "text": [
      "[[218  80  74 124]\n",
      " [112 108 119  67]\n",
      " [ 65  89 199  42]\n",
      " [114  52  49 291]]\n"
     ]
    },
    {
     "data": {
      "text/plain": [
       "<sklearn.metrics._plot.confusion_matrix.ConfusionMatrixDisplay at 0x7eefab9da380>"
      ]
     },
     "execution_count": 60,
     "metadata": {},
     "output_type": "execute_result"
    },
    {
     "data": {
      "image/png": "[encoded data removed]",
      "text/plain": [
       "<Figure size 640x480 with 2 Axes>"
      ]
     },
     "metadata": {},
     "output_type": "display_data"
    }
   ],
   "source": [
    "xgbMatrix = confusion_matrix(ytests,\n",
    "                             ypred_xgb,\n",
    "                             labels = [0, 1, 2, 3])\n",
    "\n",
    "xgbMatrixPlot = ConfusionMatrixDisplay(confusion_matrix = xgbMatrix,\n",
    "                                       display_labels = xgb_model.classes_)\n",
    "\n",
    "print(xgbMatrix)\n",
    "xgbMatrixPlot.plot()"
   ]
  },
  {
   "cell_type": "markdown",
   "metadata": {
    "id": "dMixXrhwSbkC"
   },
   "source": [
    "The confusion matrix displayed above shows that the XGBoost performance is better than the Random Forest one, because the total of true predictions are higher. However, the predictions are still quite questionable, it also looked like a gambled prediction rather than an actual prediction model."
   ]
  },
  {
   "cell_type": "markdown",
   "metadata": {
    "id": "jj1kCo_8KA0u",
    "jp-MarkdownHeadingCollapsed": true
   },
   "source": [
    "### **Hyperparameter Fine Tuning**"
   ]
  },
  {
   "cell_type": "markdown",
   "metadata": {
    "id": "5i9I9VRHKDDK"
   },
   "source": [
    "- ***GridSearchCV(estimator, param_grid, cv, n_jobs)*** is used to generate the Grid Search CV model for fine tuning.  \n",
    "- ***grid.fit(xtrain, ytrain)*** is used to fit the fine tuning model into the training set.  \n",
    "- ***grid.best_score_*** generates the best scores from the fine tuning.\n",
    "- ***grid.best_params_*** generates the best parameters from the fine tuning."
   ]
  },
  {
   "cell_type": "markdown",
   "metadata": {
    "id": "OQByNXN7KqOl"
   },
   "source": [
    "**Random Forest**"
   ]
  },
  {
   "cell_type": "code",
   "execution_count": 61,
   "metadata": {
    "colab": {
     "base_uri": "https://localhost:8080/"
    },
    "id": "9xfc2dC4KERH",
    "outputId": "c5e05c61-4e78-457e-f9ba-7cac8f61bff8"
   },
   "outputs": [
    {
     "name": "stderr",
     "output_type": "stream",
     "text": [
      "/usr/local/lib/python3.10/dist-packages/numpy/ma/core.py:2820: RuntimeWarning: invalid value encountered in cast\n",
      "  _data = np.array(data, dtype=dtype, copy=copy,\n"
     ]
    },
    {
     "name": "stdout",
     "output_type": "stream",
     "text": [
      " Results from Grid Search \n",
      "\n",
      " The best score across ALL searched params:\n",
      " 0.46740638002773927\n",
      "\n",
      " The best parameters across ALL searched params:\n",
      " {'criterion': 'gini', 'max_depth': 7, 'min_samples_split': 9, 'n_estimators': 200}\n"
     ]
    }
   ],
   "source": [
    "ranfor_hyperparameters = {\n",
    "    \"n_estimators\": [25, 50, 100, 200],\n",
    "    \"max_depth\": list(range(2, 10)),\n",
    "    \"min_samples_split\": list(range(2, 10)),\n",
    "    \"criterion\": [\"gini\"]\n",
    "}\n",
    "\n",
    "ranfor_finetune = RandomForestClassifier()\n",
    "\n",
    "grid_ranfor = GridSearchCV(estimator = ranfor_finetune,\n",
    "                           param_grid = ranfor_hyperparameters,\n",
    "                           cv = 2,\n",
    "                           n_jobs = -1)\n",
    "grid_ranfor.fit(xtrains, ytrains)\n",
    "\n",
    "print(\" Results from Grid Search \" )\n",
    "print(\"\\n The best score across ALL searched params:\\n\", grid_ranfor.best_score_)\n",
    "print(\"\\n The best parameters across ALL searched params:\\n\", grid_ranfor.best_params_)"
   ]
  },
  {
   "cell_type": "markdown",
   "metadata": {
    "id": "5Tf2lmGeZF_P"
   },
   "source": [
    "Based on the hyperparameter fine tuning, the best parameters for the Random Forest Model are:  \n",
    "- criterion: \"**gini**\"\n",
    "- max_depth: **7**\n",
    "- min_samples_split: **9**\n",
    "- n_estimators: **200**\n",
    "\n",
    "with the best score: 0.47."
   ]
  },
  {
   "cell_type": "markdown",
   "metadata": {
    "id": "KIu8-si8KuFq"
   },
   "source": [
    "**XGBoost**"
   ]
  },
  {
   "cell_type": "code",
   "execution_count": 62,
   "metadata": {
    "colab": {
     "base_uri": "https://localhost:8080/"
    },
    "id": "Lwswhls2KvNr",
    "outputId": "aca2700b-b240-4ef1-c119-7a59b430f8f7"
   },
   "outputs": [
    {
     "name": "stdout",
     "output_type": "stream",
     "text": [
      " Results from Grid Search \n",
      "\n",
      " The best score across ALL searched params:\n",
      " 0.46199722607489596\n",
      "\n",
      " The best parameters across ALL searched params:\n",
      " {'eval_metric': 'logloss', 'learning_rate': 0.1, 'max_depth': 3, 'n_estimators': 50}\n"
     ]
    }
   ],
   "source": [
    "xgb_hyperparameters = {\n",
    "    \"n_estimators\": [25, 50, 100, 200],\n",
    "    \"learning_rate\": [0.01, 0.05, 0.1, 0.3, 0.6, 0.8],\n",
    "    \"max_depth\": list(range(2, 10)),\n",
    "    \"eval_metric\": [\"logloss\"]\n",
    "}\n",
    "\n",
    "xgb_finetune = XGBClassifier()\n",
    "\n",
    "grid_xgb = GridSearchCV(estimator = xgb_finetune,\n",
    "                        param_grid = xgb_hyperparameters,\n",
    "                        cv = 2,\n",
    "                        n_jobs = -1)\n",
    "grid_xgb.fit(xtrains, ytrains)\n",
    "\n",
    "print(\" Results from Grid Search \" )\n",
    "print(\"\\n The best score across ALL searched params:\\n\", grid_xgb.best_score_)\n",
    "print(\"\\n The best parameters across ALL searched params:\\n\", grid_xgb.best_params_)"
   ]
  },
  {
   "cell_type": "markdown",
   "metadata": {
    "id": "_bQWnrPNZ97E"
   },
   "source": [
    "Based on the hyperparameter fine tuning, the best parameters for the Random Forest Model are:  \n",
    "- eval_metric: \"**logloss**\"\n",
    "- learning_rate: **0.1**\n",
    "- max_depth: **3**\n",
    "- n_estimators: **50**\n",
    "\n",
    "with the best score: 0.46."
   ]
  },
  {
   "cell_type": "markdown",
   "metadata": {
    "id": "-NsXeQidLSz0",
    "jp-MarkdownHeadingCollapsed": true
   },
   "source": [
    "### **Hyperparameter Fine Tuning Evaluation**"
   ]
  },
  {
   "cell_type": "markdown",
   "metadata": {
    "id": "CuWJoccRLTfV"
   },
   "source": [
    "- ***grid.best_estimator_*** generates the best model from the fine tuning.  \n",
    "- ***model.fit(xtrain, ytrain)*** is used to fit the model by learning the patterns from the training data.  \n",
    "- ***model.predict(xtest)*** is used to generate the prediction on the testing data.  \n",
    "- ***model.predict_proba(xtest)[:, 1]*** is used to generate the probabilities for each sample.  \n",
    "- ***classification_report(ytest, ypred)*** is used to generate the classification report of the model's prediction, returning the precision, recall, f1-score, and support score, along with the accuracy and average scores.  \n",
    "- ***confusion_matrix(ytest, ypred)*** is used to generate the confusion matrix of the model's prediction, returning the true positive, true negative, false positive, and false negative values.  \n",
    "- ***ConfusionMatrixDisplay(confusion_matrix, display_labels)*** is used to display the confusion matrix visually.\n",
    "- ***confMatPlot.plot()*** is used to display the confusion matrix plot."
   ]
  },
  {
   "cell_type": "markdown",
   "metadata": {
    "id": "wACwNlumLcpV"
   },
   "source": [
    "**Random Forest**"
   ]
  },
  {
   "cell_type": "code",
   "execution_count": 63,
   "metadata": {
    "colab": {
     "base_uri": "https://localhost:8080/",
     "height": 739
    },
    "id": "hWKNyRmqLbx2",
    "outputId": "538e94e3-dd6d-4256-b35b-75390f4e833f"
   },
   "outputs": [
    {
     "name": "stdout",
     "output_type": "stream",
     "text": [
      "              precision    recall  f1-score   support\n",
      "\n",
      "           0       0.42      0.46      0.44       496\n",
      "           1       0.37      0.24      0.29       406\n",
      "           2       0.50      0.57      0.53       395\n",
      "           3       0.57      0.63      0.60       506\n",
      "\n",
      "    accuracy                           0.48      1803\n",
      "   macro avg       0.47      0.47      0.47      1803\n",
      "weighted avg       0.47      0.48      0.47      1803\n",
      "\n",
      "[[228  71  73 124]\n",
      " [126  96 122  62]\n",
      " [ 62  58 224  51]\n",
      " [126  33  27 320]]\n"
     ]
    },
    {
     "data": {
      "text/plain": [
       "<sklearn.metrics._plot.confusion_matrix.ConfusionMatrixDisplay at 0x7eefab9b3eb0>"
      ]
     },
     "execution_count": 63,
     "metadata": {},
     "output_type": "execute_result"
    },
    {
     "data": {
      "image/png": "[encoded data removed]",
      "text/plain": [
       "<Figure size 640x480 with 2 Axes>"
      ]
     },
     "metadata": {},
     "output_type": "display_data"
    }
   ],
   "source": [
    "ranfor_bestmodel = grid_ranfor.best_estimator_\n",
    "ranfor_bestmodel.fit(xtrains,\n",
    "                     ytrains)\n",
    "\n",
    "ypred_ranfor_best = ranfor_bestmodel.predict(xtests)\n",
    "yprob_ranfor_best = ranfor_bestmodel.predict_proba(xtests)[:, 1]\n",
    "\n",
    "print(classification_report(ytests,\n",
    "                            y_pred = ypred_ranfor_best))\n",
    "\n",
    "ranforMatrix_best = confusion_matrix(ytests,\n",
    "                                     ypred_ranfor_best)\n",
    "\n",
    "ranforMatrixPlot_best = ConfusionMatrixDisplay(confusion_matrix = ranforMatrix_best,\n",
    "                                               display_labels = ranfor_bestmodel.classes_)\n",
    "\n",
    "print(ranforMatrix_best)\n",
    "ranforMatrixPlot_best.plot()"
   ]
  },
  {
   "cell_type": "markdown",
   "metadata": {
    "id": "_o5TKlUiaHXA"
   },
   "source": [
    "With accuracy of 48%, precision score of 47%, recall score 47%, and f1-score of 47%, the classification report and confusion matrix above shows that there are no significant difference between the fine tuned model and the initialized model.\n",
    "\n",
    "Hence, the Random Forest model is just not compatible to predict such case on determining customer's *Segmentation*."
   ]
  },
  {
   "cell_type": "markdown",
   "metadata": {
    "id": "M-csfXcNLgFC"
   },
   "source": [
    "**XGBoost**"
   ]
  },
  {
   "cell_type": "code",
   "execution_count": 64,
   "metadata": {
    "colab": {
     "base_uri": "https://localhost:8080/",
     "height": 739
    },
    "id": "jhSebKTULiAJ",
    "outputId": "8f0f6047-a965-4f76-b7e8-8e5510a15318"
   },
   "outputs": [
    {
     "name": "stdout",
     "output_type": "stream",
     "text": [
      "              precision    recall  f1-score   support\n",
      "\n",
      "           0       0.42      0.46      0.44       496\n",
      "           1       0.35      0.23      0.28       406\n",
      "           2       0.50      0.57      0.54       395\n",
      "           3       0.57      0.62      0.60       506\n",
      "\n",
      "    accuracy                           0.48      1803\n",
      "   macro avg       0.46      0.47      0.46      1803\n",
      "weighted avg       0.47      0.48      0.47      1803\n",
      "\n",
      "[[228  75  72 121]\n",
      " [124  95 126  61]\n",
      " [ 57  61 226  51]\n",
      " [129  39  25 313]]\n"
     ]
    },
    {
     "data": {
      "text/plain": [
       "<sklearn.metrics._plot.confusion_matrix.ConfusionMatrixDisplay at 0x7eefaba02c80>"
      ]
     },
     "execution_count": 64,
     "metadata": {},
     "output_type": "execute_result"
    },
    {
     "data": {
      "image/png": "[encoded data removed]",
      "text/plain": [
       "<Figure size 640x480 with 2 Axes>"
      ]
     },
     "metadata": {},
     "output_type": "display_data"
    }
   ],
   "source": [
    "xgb_bestmodel = grid_xgb.best_estimator_\n",
    "xgb_bestmodel.fit(xtrains,\n",
    "                  ytrains)\n",
    "\n",
    "ypred_xgb_best = xgb_bestmodel.predict(xtests)\n",
    "yprob_xgb_best = xgb_bestmodel.predict_proba(xtests)[:, 1]\n",
    "\n",
    "print(classification_report(ytests,\n",
    "                            y_pred = ypred_xgb_best))\n",
    "\n",
    "xgbMatrix_best = confusion_matrix(ytests,\n",
    "                                  ypred_xgb_best)\n",
    "\n",
    "xgbMatrixPlot_best = ConfusionMatrixDisplay(confusion_matrix = xgbMatrix_best,\n",
    "                                            display_labels = xgb_bestmodel.classes_)\n",
    "\n",
    "print(xgbMatrix_best)\n",
    "xgbMatrixPlot_best.plot()"
   ]
  },
  {
   "cell_type": "markdown",
   "metadata": {
    "id": "s9gRqZSfaYe0"
   },
   "source": [
    "With accuracy of 48%, precision score of 46%, recall score 47%, and f1-score of 46%, the classification report and confusion matrix above shows that there are no significant difference between the fine tuned model and the initialized model.\n",
    "\n",
    "Hence, the XGBoost model is also not compatible to predict such case on determining customer's *Segmentation*."
   ]
  }
 ],
 "metadata": {
  "colab": {
   "provenance": [],
   "toc_visible": true
  },
  "kernelspec": {
   "display_name": "Python 3 (ipykernel)",
   "language": "python",
   "name": "python3"
  },
  "language_info": {
   "codemirror_mode": {
    "name": "ipython",
    "version": 3
   },
   "file_extension": ".py",
   "mimetype": "text/x-python",
   "name": "python",
   "nbconvert_exporter": "python",
   "pygments_lexer": "ipython3",
   "version": "3.10.16"
  }
 },
 "nbformat": 4,
 "nbformat_minor": 4
}
